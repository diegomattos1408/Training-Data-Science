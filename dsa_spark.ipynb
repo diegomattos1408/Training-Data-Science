{
 "cells": [
  {
   "cell_type": "markdown",
   "id": "95cf302f-94b7-44a9-a82f-a0aa8d51c4c9",
   "metadata": {},
   "source": [
    "# Python Apache Spark"
   ]
  },
  {
   "cell_type": "code",
   "execution_count": 1,
   "id": "f5637fc0-798b-4742-910a-e5bab3d47921",
   "metadata": {},
   "outputs": [],
   "source": [
    "from pyspark.sql import SparkSession\n",
    "from pyspark.sql.types import DoubleType, StringType\n",
    "from pyspark.sql import functions as f\n",
    "from pyspark.sql.window import Window "
   ]
  },
  {
   "cell_type": "code",
   "execution_count": 2,
   "id": "87668ef4-3ebd-42d7-825b-2d97de25e807",
   "metadata": {},
   "outputs": [],
   "source": [
    "spark = SparkSession.builder \\\n",
    "    .appName(\"RetailSalesAnalysis\") \\\n",
    "    .getOrCreate()"
   ]
  },
  {
   "cell_type": "code",
   "execution_count": 3,
   "id": "2d63c6f5-2d9e-4fd8-8513-0f56ecc8de0b",
   "metadata": {},
   "outputs": [],
   "source": [
    "df = spark.read.csv(\"dados/global_retail_sales_data.csv\", header=True, inferSchema=True)"
   ]
  },
  {
   "cell_type": "code",
   "execution_count": 4,
   "id": "c8ed03cc-5d6b-453e-b1fb-12f454ec3d69",
   "metadata": {},
   "outputs": [
    {
     "name": "stdout",
     "output_type": "stream",
     "text": [
      "root\n",
      " |-- Transaction ID: string (nullable = true)\n",
      " |-- Date: date (nullable = true)\n",
      " |-- Store ID: string (nullable = true)\n",
      " |-- Product ID: string (nullable = true)\n",
      " |-- Category: string (nullable = true)\n",
      " |-- Sub-Category: string (nullable = true)\n",
      " |-- Quantity Sold: integer (nullable = true)\n",
      " |-- Price: double (nullable = true)\n",
      " |-- Discount: double (nullable = true)\n",
      " |-- Total Sales: double (nullable = true)\n",
      " |-- Customer ID: string (nullable = true)\n",
      " |-- Payment Method: string (nullable = true)\n",
      " |-- Store Location: string (nullable = true)\n",
      " |-- Customer Age: integer (nullable = true)\n",
      " |-- Customer Gender: string (nullable = true)\n",
      " |-- Customer Segment: string (nullable = true)\n",
      " |-- Loyalty Program: string (nullable = true)\n",
      " |-- Feedback Rating: integer (nullable = true)\n",
      " |-- Employee ID: string (nullable = true)\n",
      " |-- Store Type: string (nullable = true)\n",
      "\n"
     ]
    }
   ],
   "source": [
    "df.printSchema()"
   ]
  },
  {
   "cell_type": "code",
   "execution_count": 5,
   "id": "d2f591da-620e-4f02-b64e-39726eaa4db5",
   "metadata": {},
   "outputs": [
    {
     "data": {
      "text/html": [
       "<div>\n",
       "<style scoped>\n",
       "    .dataframe tbody tr th:only-of-type {\n",
       "        vertical-align: middle;\n",
       "    }\n",
       "\n",
       "    .dataframe tbody tr th {\n",
       "        vertical-align: top;\n",
       "    }\n",
       "\n",
       "    .dataframe thead th {\n",
       "        text-align: right;\n",
       "    }\n",
       "</style>\n",
       "<table border=\"1\" class=\"dataframe\">\n",
       "  <thead>\n",
       "    <tr style=\"text-align: right;\">\n",
       "      <th></th>\n",
       "      <th>Transaction ID</th>\n",
       "      <th>Date</th>\n",
       "      <th>Store ID</th>\n",
       "      <th>Product ID</th>\n",
       "      <th>Category</th>\n",
       "      <th>Sub-Category</th>\n",
       "      <th>Quantity Sold</th>\n",
       "      <th>Price</th>\n",
       "      <th>Discount</th>\n",
       "      <th>Total Sales</th>\n",
       "      <th>Customer ID</th>\n",
       "      <th>Payment Method</th>\n",
       "      <th>Store Location</th>\n",
       "      <th>Customer Age</th>\n",
       "      <th>Customer Gender</th>\n",
       "      <th>Customer Segment</th>\n",
       "      <th>Loyalty Program</th>\n",
       "      <th>Feedback Rating</th>\n",
       "      <th>Employee ID</th>\n",
       "      <th>Store Type</th>\n",
       "    </tr>\n",
       "  </thead>\n",
       "  <tbody>\n",
       "    <tr>\n",
       "      <th>0</th>\n",
       "      <td>T0000001</td>\n",
       "      <td>2023-10-13</td>\n",
       "      <td>S074</td>\n",
       "      <td>P00991</td>\n",
       "      <td>Groceries</td>\n",
       "      <td>Dairy</td>\n",
       "      <td>7</td>\n",
       "      <td>56.49</td>\n",
       "      <td>0.20</td>\n",
       "      <td>316.34</td>\n",
       "      <td>d49b8699-04cd-424c-8ffa-dd6210950328</td>\n",
       "      <td>Online Payment</td>\n",
       "      <td>Martinstad, Guinea</td>\n",
       "      <td>41</td>\n",
       "      <td>Female</td>\n",
       "      <td>VIP</td>\n",
       "      <td>No</td>\n",
       "      <td>2</td>\n",
       "      <td>E0258</td>\n",
       "      <td>Online</td>\n",
       "    </tr>\n",
       "    <tr>\n",
       "      <th>1</th>\n",
       "      <td>T0000002</td>\n",
       "      <td>2022-12-13</td>\n",
       "      <td>S044</td>\n",
       "      <td>P00266</td>\n",
       "      <td>Groceries</td>\n",
       "      <td>Snacks</td>\n",
       "      <td>1</td>\n",
       "      <td>521.88</td>\n",
       "      <td>0.03</td>\n",
       "      <td>506.22</td>\n",
       "      <td>e46ee47a-c8d8-488d-89a2-3c7f58090a46</td>\n",
       "      <td>Online Payment</td>\n",
       "      <td>New Micheleview, Paraguay</td>\n",
       "      <td>68</td>\n",
       "      <td>Female</td>\n",
       "      <td>Regular</td>\n",
       "      <td>No</td>\n",
       "      <td>3</td>\n",
       "      <td>E0081</td>\n",
       "      <td>Online</td>\n",
       "    </tr>\n",
       "    <tr>\n",
       "      <th>2</th>\n",
       "      <td>T0000003</td>\n",
       "      <td>2022-09-15</td>\n",
       "      <td>S030</td>\n",
       "      <td>P00711</td>\n",
       "      <td>Groceries</td>\n",
       "      <td>Fruits</td>\n",
       "      <td>6</td>\n",
       "      <td>961.08</td>\n",
       "      <td>0.02</td>\n",
       "      <td>5651.15</td>\n",
       "      <td>01255bf5-ae89-45bc-99dc-6aade26b41f9</td>\n",
       "      <td>Cash</td>\n",
       "      <td>Martinstad, Guinea</td>\n",
       "      <td>47</td>\n",
       "      <td>Male</td>\n",
       "      <td>VIP</td>\n",
       "      <td>Yes</td>\n",
       "      <td>2</td>\n",
       "      <td>E0446</td>\n",
       "      <td>Online</td>\n",
       "    </tr>\n",
       "    <tr>\n",
       "      <th>3</th>\n",
       "      <td>T0000004</td>\n",
       "      <td>2023-02-28</td>\n",
       "      <td>S042</td>\n",
       "      <td>P00733</td>\n",
       "      <td>Furniture</td>\n",
       "      <td>Tables</td>\n",
       "      <td>8</td>\n",
       "      <td>417.71</td>\n",
       "      <td>0.26</td>\n",
       "      <td>2472.84</td>\n",
       "      <td>a62979a4-9370-4b08-abac-8ed0284115ab</td>\n",
       "      <td>Cash</td>\n",
       "      <td>Lake Diana, Nepal</td>\n",
       "      <td>37</td>\n",
       "      <td>Female</td>\n",
       "      <td>VIP</td>\n",
       "      <td>Yes</td>\n",
       "      <td>5</td>\n",
       "      <td>E0152</td>\n",
       "      <td>Outlet</td>\n",
       "    </tr>\n",
       "    <tr>\n",
       "      <th>4</th>\n",
       "      <td>T0000005</td>\n",
       "      <td>2023-12-12</td>\n",
       "      <td>S010</td>\n",
       "      <td>P00815</td>\n",
       "      <td>Electronics</td>\n",
       "      <td>Laptops</td>\n",
       "      <td>8</td>\n",
       "      <td>70.94</td>\n",
       "      <td>0.28</td>\n",
       "      <td>408.61</td>\n",
       "      <td>296c62a6-e926-4870-9bce-219275fa542f</td>\n",
       "      <td>Online Payment</td>\n",
       "      <td>Port Melanie, Moldova</td>\n",
       "      <td>21</td>\n",
       "      <td>Male</td>\n",
       "      <td>Regular</td>\n",
       "      <td>No</td>\n",
       "      <td>4</td>\n",
       "      <td>E0055</td>\n",
       "      <td>Outlet</td>\n",
       "    </tr>\n",
       "  </tbody>\n",
       "</table>\n",
       "</div>"
      ],
      "text/plain": [
       "  Transaction ID        Date Store ID Product ID     Category Sub-Category  \\\n",
       "0       T0000001  2023-10-13     S074     P00991    Groceries        Dairy   \n",
       "1       T0000002  2022-12-13     S044     P00266    Groceries       Snacks   \n",
       "2       T0000003  2022-09-15     S030     P00711    Groceries       Fruits   \n",
       "3       T0000004  2023-02-28     S042     P00733    Furniture       Tables   \n",
       "4       T0000005  2023-12-12     S010     P00815  Electronics      Laptops   \n",
       "\n",
       "   Quantity Sold   Price  Discount  Total Sales  \\\n",
       "0              7   56.49      0.20       316.34   \n",
       "1              1  521.88      0.03       506.22   \n",
       "2              6  961.08      0.02      5651.15   \n",
       "3              8  417.71      0.26      2472.84   \n",
       "4              8   70.94      0.28       408.61   \n",
       "\n",
       "                            Customer ID  Payment Method  \\\n",
       "0  d49b8699-04cd-424c-8ffa-dd6210950328  Online Payment   \n",
       "1  e46ee47a-c8d8-488d-89a2-3c7f58090a46  Online Payment   \n",
       "2  01255bf5-ae89-45bc-99dc-6aade26b41f9            Cash   \n",
       "3  a62979a4-9370-4b08-abac-8ed0284115ab            Cash   \n",
       "4  296c62a6-e926-4870-9bce-219275fa542f  Online Payment   \n",
       "\n",
       "              Store Location  Customer Age Customer Gender Customer Segment  \\\n",
       "0         Martinstad, Guinea            41          Female              VIP   \n",
       "1  New Micheleview, Paraguay            68          Female          Regular   \n",
       "2         Martinstad, Guinea            47            Male              VIP   \n",
       "3          Lake Diana, Nepal            37          Female              VIP   \n",
       "4      Port Melanie, Moldova            21            Male          Regular   \n",
       "\n",
       "  Loyalty Program  Feedback Rating Employee ID Store Type  \n",
       "0              No                2       E0258     Online  \n",
       "1              No                3       E0081     Online  \n",
       "2             Yes                2       E0446     Online  \n",
       "3             Yes                5       E0152     Outlet  \n",
       "4              No                4       E0055     Outlet  "
      ]
     },
     "execution_count": 5,
     "metadata": {},
     "output_type": "execute_result"
    }
   ],
   "source": [
    "df.limit(5).toPandas()"
   ]
  },
  {
   "cell_type": "markdown",
   "id": "0fe61d21-ea11-4e7e-b234-45eb90acb10e",
   "metadata": {},
   "source": [
    "### Q1. How many transactions were recorded in the dataset?"
   ]
  },
  {
   "cell_type": "code",
   "execution_count": 6,
   "id": "cb557cb7-622e-489a-af05-f107dfc178e4",
   "metadata": {},
   "outputs": [
    {
     "data": {
      "text/plain": [
       "10000"
      ]
     },
     "execution_count": 6,
     "metadata": {},
     "output_type": "execute_result"
    }
   ],
   "source": [
    "df.count()"
   ]
  },
  {
   "cell_type": "markdown",
   "id": "8b00e246-83a1-4a7f-84e6-80c6e6b10094",
   "metadata": {},
   "source": [
    "### Q2. What is the total revenue generated across all transactions?"
   ]
  },
  {
   "cell_type": "code",
   "execution_count": 7,
   "id": "8b6f8319-6b2c-4c95-b8c3-795cf98eeb04",
   "metadata": {},
   "outputs": [
    {
     "name": "stdout",
     "output_type": "stream",
     "text": [
      "+--------------------+\n",
      "|       Total Revenue|\n",
      "+--------------------+\n",
      "|2.3508131990000144E7|\n",
      "+--------------------+\n",
      "\n"
     ]
    }
   ],
   "source": [
    "df.agg(f.sum(\"Total Sales\").alias(\"Total Revenue\")).show()"
   ]
  },
  {
   "cell_type": "code",
   "execution_count": 8,
   "id": "100c64f4-1353-4468-aa7f-64497399c542",
   "metadata": {},
   "outputs": [],
   "source": [
    "### Q3. "
   ]
  },
  {
   "cell_type": "markdown",
   "id": "81a2a32c-843d-4cc1-88df-0aca0136e0da",
   "metadata": {},
   "source": [
    "### Q11. What is the total sales amount for each store across different months?"
   ]
  },
  {
   "cell_type": "code",
   "execution_count": 9,
   "id": "e737c8b2-4412-4d9b-b8b2-cf3f909c1067",
   "metadata": {},
   "outputs": [],
   "source": [
    "# Extract the year and month from the Date column\n",
    "df = df.withColumn(\"Year\", f.year(f.col(\"Date\")))\n",
    "df = df.withColumn(\"Month\", f.month(f.col(\"Date\")))"
   ]
  },
  {
   "cell_type": "code",
   "execution_count": 10,
   "id": "6dae5766-c671-4a49-beaf-40aeb168b320",
   "metadata": {},
   "outputs": [],
   "source": [
    "# Group by Store ID, Year, and Month and calculate the total sales\n",
    "total_sales_per_store_month = df.groupBy(\"Store ID\", \"Year\", \"Month\") \\\n",
    "                                .agg(f.sum(\"Total Sales\").alias(\"Total Sales\"))"
   ]
  },
  {
   "cell_type": "code",
   "execution_count": 11,
   "id": "3128b973-2995-4547-9f67-95b287c3fce8",
   "metadata": {},
   "outputs": [
    {
     "name": "stdout",
     "output_type": "stream",
     "text": [
      "+--------+----+-----+------------------+\n",
      "|Store ID|Year|Month|       Total Sales|\n",
      "+--------+----+-----+------------------+\n",
      "|    S001|2022|    9| 5989.860000000001|\n",
      "|    S001|2022|   10|          17982.27|\n",
      "|    S001|2022|   11|           4408.25|\n",
      "|    S001|2022|   12|16871.569999999996|\n",
      "|    S001|2023|    1|          10861.85|\n",
      "|    S001|2023|    2|           11993.2|\n",
      "|    S001|2023|    3|            5205.3|\n",
      "|    S001|2023|    4|            8344.8|\n",
      "|    S001|2023|    5|          16104.75|\n",
      "|    S001|2023|    6|           4629.76|\n",
      "|    S001|2023|    7|          17687.41|\n",
      "|    S001|2023|    8|           8633.63|\n",
      "|    S001|2023|    9|           10148.9|\n",
      "|    S001|2023|   10|          19128.98|\n",
      "|    S001|2023|   11|10259.849999999999|\n",
      "|    S001|2023|   12|          16521.89|\n",
      "|    S001|2024|    1|21536.999999999996|\n",
      "|    S001|2024|    2|           4073.62|\n",
      "|    S001|2024|    3|            4911.1|\n",
      "|    S001|2024|    4|14524.789999999999|\n",
      "+--------+----+-----+------------------+\n",
      "only showing top 20 rows\n",
      "\n"
     ]
    }
   ],
   "source": [
    "# Show the result\n",
    "total_sales_per_store_month.orderBy(\"Store ID\", \"Year\", \"Month\").show()"
   ]
  },
  {
   "cell_type": "markdown",
   "id": "b329800c-f623-49ad-bcc2-e630f3647297",
   "metadata": {},
   "source": [
    "### Q12. Which store has the highest average feedback rating?"
   ]
  },
  {
   "cell_type": "code",
   "execution_count": 12,
   "id": "7362f750-23ca-4357-ba72-eb31a0d7a608",
   "metadata": {},
   "outputs": [
    {
     "name": "stdout",
     "output_type": "stream",
     "text": [
      "+--------+-----------------------+\n",
      "|Store ID|Average Feedback Rating|\n",
      "+--------+-----------------------+\n",
      "|    S005|     3.4234234234234235|\n",
      "+--------+-----------------------+\n",
      "\n"
     ]
    }
   ],
   "source": [
    "# Group by Store ID and calculate the average feedback rating\n",
    "avg_feedback_per_store = df.groupBy(\"Store ID\") \\\n",
    "                           .agg(f.avg(\"Feedback Rating\").alias(\"Average Feedback Rating\"))\n",
    "\n",
    "# Order by Average Feedback Rating in descending order and get the top store\n",
    "top_store = avg_feedback_per_store.orderBy(f.col(\"Average Feedback Rating\").desc()).limit(1)\n",
    "\n",
    "# Show the result\n",
    "top_store.show()"
   ]
  },
  {
   "cell_type": "markdown",
   "id": "a64134fd-befc-48b6-a4d3-9a7f6d1ab0c2",
   "metadata": {},
   "source": [
    "### Q13. How does the average discount percentage vary by product category?"
   ]
  },
  {
   "cell_type": "code",
   "execution_count": 13,
   "id": "e8e6c999-2d54-4bf6-be05-586e226d617c",
   "metadata": {},
   "outputs": [
    {
     "name": "stdout",
     "output_type": "stream",
     "text": [
      "+-----------+-------------------+\n",
      "|   Category|   Average Discount|\n",
      "+-----------+-------------------+\n",
      "|   Clothing|0.15178286852589584|\n",
      "|Electronics|0.15120393120393072|\n",
      "|       Toys|0.15084521384928679|\n",
      "|  Furniture|0.14925607287449394|\n",
      "|  Groceries|0.14816063460585016|\n",
      "+-----------+-------------------+\n",
      "\n"
     ]
    }
   ],
   "source": [
    "# Group by Category and calculate the average discount percentage\n",
    "avg_discount_per_category = df.groupBy(\"Category\") \\\n",
    "                              .agg(f.avg(\"Discount\").alias(\"Average Discount\"))\n",
    "\n",
    "# Order the result by Average Discount for better readability (optional)\n",
    "avg_discount_per_category = avg_discount_per_category.orderBy(f.col(\"Average Discount\").desc())\n",
    "\n",
    "# Show the result\n",
    "avg_discount_per_category.show()"
   ]
  },
  {
   "cell_type": "markdown",
   "id": "a3a325a8-192c-4550-8cdb-c208cc04e979",
   "metadata": {},
   "source": [
    "### Q14. What is the most popular payment method used by customers in different countries?"
   ]
  },
  {
   "cell_type": "code",
   "execution_count": 14,
   "id": "7ed02281-95b7-4dea-8213-adf1ce77ac08",
   "metadata": {},
   "outputs": [
    {
     "name": "stdout",
     "output_type": "stream",
     "text": [
      "+--------------------+--------------+-----+\n",
      "|             Country|Payment Method|Count|\n",
      "+--------------------+--------------+-----+\n",
      "|         Afghanistan|Online Payment|   39|\n",
      "|             Albania|   Credit Card|   80|\n",
      "|             Andorra|          Cash|   42|\n",
      "|              Angola|Online Payment|   39|\n",
      "|            Anguilla|   Credit Card|   35|\n",
      "|Antarctica (the t...|          Cash|   35|\n",
      "| Antigua and Barbuda|Online Payment|   35|\n",
      "|             Austria|   Credit Card|   50|\n",
      "|             Bahamas|   Credit Card|   38|\n",
      "|             Bahrain|Online Payment|   43|\n",
      "|             Belarus|   Credit Card|   34|\n",
      "|               Benin|Online Payment|   44|\n",
      "|             Bermuda|          Cash|   39|\n",
      "|              Bhutan|Online Payment|   81|\n",
      "|British Virgin Is...|   Credit Card|   39|\n",
      "|                Chad|Online Payment|   38|\n",
      "|               Chile|          Cash|   40|\n",
      "|    Christmas Island|   Credit Card|   35|\n",
      "|Cocos (Keeling) I...|Online Payment|   46|\n",
      "|            Colombia|          Cash|   54|\n",
      "+--------------------+--------------+-----+\n",
      "only showing top 20 rows\n",
      "\n"
     ]
    }
   ],
   "source": [
    "# Extract the country from the store location (assuming store location format is \"City, Country\")\n",
    "df = df.withColumn(\"Country\", f.split(f.col(\"Store Location\"), \", \").getItem(1))\n",
    "\n",
    "# Group by Country and Payment Method, and count the transactions\n",
    "payment_method_count = df.groupBy(\"Country\", \"Payment Method\") \\\n",
    "                         .agg(f.count(\"Transaction ID\").alias(\"Count\"))\n",
    "\n",
    "# Use a window function to determine the most popular payment method per country\n",
    "window = Window.partitionBy(\"Country\").orderBy(f.col(\"Count\").desc())\n",
    "\n",
    "# Add a rank to determine the most popular payment method\n",
    "ranked_payment_methods = payment_method_count.withColumn(\"Rank\", f.row_number().over(window))\n",
    "\n",
    "# Filter to keep only the most popular payment method per country\n",
    "most_popular_payment_method = ranked_payment_methods.filter(f.col(\"Rank\") == 1)\n",
    "\n",
    "# Show the result\n",
    "most_popular_payment_method.select(\"Country\", \"Payment Method\", \"Count\").show()"
   ]
  },
  {
   "cell_type": "markdown",
   "id": "1fd15b87-3c4b-464e-89c8-73ef15326047",
   "metadata": {},
   "source": [
    "### Q15. Identify the top 10 products with the highest total sales."
   ]
  },
  {
   "cell_type": "code",
   "execution_count": 15,
   "id": "d49d1abc-c23a-4521-8201-e0514d108f8a",
   "metadata": {},
   "outputs": [
    {
     "name": "stdout",
     "output_type": "stream",
     "text": [
      "+----------+------------------+\n",
      "|Product ID|       Total Sales|\n",
      "+----------+------------------+\n",
      "|    P00350|           65583.9|\n",
      "|    P00225|53441.270000000004|\n",
      "|    P00842|53168.240000000005|\n",
      "|    P00415| 51834.43000000001|\n",
      "|    P00743|51455.810000000005|\n",
      "|    P00691|          50373.47|\n",
      "|    P00186|50283.850000000006|\n",
      "|    P00386| 49821.72999999999|\n",
      "|    P00958|49193.369999999995|\n",
      "|    P00340| 48476.54999999999|\n",
      "+----------+------------------+\n",
      "\n"
     ]
    }
   ],
   "source": [
    "# Group by Product ID and calculate the total sales\n",
    "total_sales_per_product = df.groupBy(\"Product ID\") \\\n",
    "                            .agg(f.sum(\"Total Sales\").alias(\"Total Sales\"))\n",
    "\n",
    "# Order by Total Sales in descending order and get the top 10 products\n",
    "top_10_products = total_sales_per_product.orderBy(f.col(\"Total Sales\").desc()).limit(10)\n",
    "\n",
    "# Show the result\n",
    "top_10_products.show()"
   ]
  },
  {
   "cell_type": "markdown",
   "id": "ffc2f0f2-7b8a-42ea-9cd6-0911ae1c9037",
   "metadata": {},
   "source": [
    "### Q16. Which customer segment (Regular, VIP) contributes the most to total sales?"
   ]
  },
  {
   "cell_type": "code",
   "execution_count": 16,
   "id": "40379f94-718d-4fcd-b351-d60dbae188db",
   "metadata": {},
   "outputs": [
    {
     "name": "stdout",
     "output_type": "stream",
     "text": [
      "+----------------+--------------------+\n",
      "|Customer Segment|         Total Sales|\n",
      "+----------------+--------------------+\n",
      "|         Regular|1.1948929059999974E7|\n",
      "|             VIP|1.1559202930000018E7|\n",
      "+----------------+--------------------+\n",
      "\n"
     ]
    }
   ],
   "source": [
    "# Group by Customer Segment and calculate the total sales\n",
    "total_sales_per_segment = df.groupBy(\"Customer Segment\") \\\n",
    "                        .agg(f.sum(\"Total Sales\").alias(\"Total Sales\"))\n",
    "\n",
    "# Order by Total Sales in descending order\n",
    "total_sales_per_segment = total_sales_per_segment.orderBy(f.col(\"Total Sales\").desc())\n",
    "\n",
    "# Show the result\n",
    "total_sales_per_segment.show()"
   ]
  },
  {
   "cell_type": "markdown",
   "id": "65d8aea9-9384-49c1-a37f-cd538eba02b1",
   "metadata": {},
   "source": [
    "### Q17. Analyze the sales trend over time for different product categories."
   ]
  },
  {
   "cell_type": "code",
   "execution_count": 17,
   "id": "402352e5-bd51-41c8-b9ae-f2bb681d0f0e",
   "metadata": {},
   "outputs": [
    {
     "name": "stdout",
     "output_type": "stream",
     "text": [
      "+--------+----+-----+------------------+\n",
      "|Category|Year|Month|       Total Sales|\n",
      "+--------+----+-----+------------------+\n",
      "|Clothing|2022|    9|180573.57000000004|\n",
      "|Clothing|2022|   10|         281169.85|\n",
      "|Clothing|2022|   11|184325.97999999998|\n",
      "|Clothing|2022|   12|188024.62999999998|\n",
      "|Clothing|2023|    1|200487.02000000008|\n",
      "+--------+----+-----+------------------+\n",
      "only showing top 5 rows\n",
      "\n"
     ]
    }
   ],
   "source": [
    "# Extract the year and month from the Date column\n",
    "df = df.withColumn(\"Year\", f.year(f.col(\"Date\")))\n",
    "df = df.withColumn(\"Month\", f.month(f.col(\"Date\")))\n",
    "\n",
    "# Group by Category, Year, and Month, and calculate the total sales\n",
    "sales_trend = df.groupBy(\"Category\", \"Year\", \"Month\") \\\n",
    "                .agg(f.sum(\"Total Sales\").alias(\"Total Sales\"))\n",
    "\n",
    "# Order the result by Category, Year, and Month\n",
    "sales_trend = sales_trend.orderBy(\"Category\", \"Year\", \"Month\")\n",
    "\n",
    "sales_trend.show(5)"
   ]
  },
  {
   "cell_type": "markdown",
   "id": "891c3085-ec04-4498-932a-65156c08b9fa",
   "metadata": {},
   "source": [
    "### Q18. Which stores have the highest sales growth rate over the past year?"
   ]
  },
  {
   "cell_type": "code",
   "execution_count": 18,
   "id": "6d869209-176c-481c-b72f-f841544973a4",
   "metadata": {},
   "outputs": [
    {
     "name": "stdout",
     "output_type": "stream",
     "text": [
      "+--------+----+------------------+-------------------+------------------+\n",
      "|Store ID|Year|       Total Sales|Previous Year Sales|       Growth Rate|\n",
      "+--------+----+------------------+-------------------+------------------+\n",
      "|    S097|2023|144121.25999999998|            9851.29|13.629684031228393|\n",
      "|    S053|2023|130308.31000000001|           18299.13|  6.12101121747318|\n",
      "|    S061|2023|127207.56999999996|           20900.41| 5.086367205236642|\n",
      "|    S040|2023|125535.66999999998| 22710.819999999996|4.5275709991977395|\n",
      "|    S096|2023|         137113.59|           24839.58| 4.519964105673284|\n",
      "|    S003|2023|105611.00999999995|           20788.22| 4.080329628991802|\n",
      "|    S077|2023|122598.29999999999| 25560.850000000006| 3.796331107924813|\n",
      "|    S039|2023|167740.20999999993|           36790.56| 3.559327447040761|\n",
      "|    S041|2023|          141922.1| 32321.710000000006|3.3909217674436154|\n",
      "|    S055|2023|113229.07999999999|           27062.88| 3.183925731481645|\n",
      "+--------+----+------------------+-------------------+------------------+\n",
      "\n"
     ]
    }
   ],
   "source": [
    "# Extract the year from the Date column\n",
    "df = df.withColumn(\"Year\", f.year(f.col(\"Date\")))\n",
    "\n",
    "# Calculate total sales for each store by year\n",
    "sales_per_store_year = df.groupBy(\"Store ID\", \"Year\") \\\n",
    "                         .agg(f.sum(\"Total Sales\").alias(\"Total Sales\"))\n",
    "\n",
    "# Create a window specification to calculate the sales for the previous year\n",
    "window_spec = Window.partitionBy(\"Store ID\").orderBy(\"Year\")\n",
    "\n",
    "# Calculate the previous year's sales for each store\n",
    "sales_per_store_year = sales_per_store_year.withColumn(\"Previous Year Sales\", f.lag(\"Total Sales\").over(window_spec))\n",
    "\n",
    "# Calculate the growth rate as (current year sales - previous year sales) / previous year sales\n",
    "sales_per_store_year = sales_per_store_year.withColumn(\"Growth Rate\", \n",
    "                                                       (f.col(\"Total Sales\") - f.col(\"Previous Year Sales\")) / f.col(\"Previous Year Sales\"))\n",
    "\n",
    "# Filter out rows where growth rate cannot be calculated (e.g., the first year)\n",
    "sales_per_store_year = sales_per_store_year.filter(f.col(\"Previous Year Sales\").isNotNull())\n",
    "\n",
    "# Identify the stores with the highest growth rate\n",
    "top_growth_stores = sales_per_store_year.orderBy(f.col(\"Growth Rate\").desc()).limit(10)\n",
    "\n",
    "# Show the result\n",
    "top_growth_stores.select(\"Store ID\", \"Year\", \"Total Sales\", \"Previous Year Sales\", \"Growth Rate\").show()"
   ]
  },
  {
   "cell_type": "markdown",
   "id": "1d183192-c186-4116-ab94-17c9bf6d5d3d",
   "metadata": {},
   "source": [
    "### Q19. What is the average purchase amount by different age groups?"
   ]
  },
  {
   "cell_type": "code",
   "execution_count": null,
   "id": "004346f3-ee05-45c1-8867-67085bf92661",
   "metadata": {},
   "outputs": [],
   "source": []
  },
  {
   "cell_type": "code",
   "execution_count": 19,
   "id": "c2654f62-81c7-4e53-84e3-5d1eee6d952b",
   "metadata": {},
   "outputs": [],
   "source": [
    "### Which product sub-categories have the highest return rate (e.g., returns not explicitly stated but implied by negative sales or quantity adjustments)?\n",
    "### What is the relationship between discount percentage and customer feedback rating?\n",
    "### How does the customer loyalty program impact total sales and frequency of purchases?\n",
    "### Which cities have the highest number of VIP customers?\n",
    "### Identify any seasonal trends in sales for specific product categories.\n",
    "### What is the average transaction amount for online stores compared to physical stores?\n",
    "### Analyze the relationship between store location and the preferred payment method.\n",
    "### What is the average number of items purchased per transaction across different store types?\n",
    "### Identify the top 5 employees with the highest total sales and analyze their performance trends.\n",
    "### What is the correlation between customer age and the likelihood of purchasing high-value products?\n",
    "### How do sales vary across different days of the week and hours of the day?"
   ]
  }
 ],
 "metadata": {
  "kernelspec": {
   "display_name": "Python 3 (ipykernel)",
   "language": "python",
   "name": "python3"
  },
  "language_info": {
   "codemirror_mode": {
    "name": "ipython",
    "version": 3
   },
   "file_extension": ".py",
   "mimetype": "text/x-python",
   "name": "python",
   "nbconvert_exporter": "python",
   "pygments_lexer": "ipython3",
   "version": "3.11.8"
  }
 },
 "nbformat": 4,
 "nbformat_minor": 5
}
