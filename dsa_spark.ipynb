{
 "cells": [
  {
   "cell_type": "markdown",
   "id": "95cf302f-94b7-44a9-a82f-a0aa8d51c4c9",
   "metadata": {},
   "source": [
    "# Python Apache Spark"
   ]
  },
  {
   "cell_type": "code",
   "execution_count": 1,
   "id": "f5637fc0-798b-4742-910a-e5bab3d47921",
   "metadata": {},
   "outputs": [],
   "source": [
    "from pyspark.sql import SparkSession\n",
    "from pyspark.sql.types import DoubleType, StringType\n",
    "from pyspark.sql import functions as f\n",
    "from pyspark.sql.window import Window "
   ]
  },
  {
   "cell_type": "code",
   "execution_count": 2,
   "id": "87668ef4-3ebd-42d7-825b-2d97de25e807",
   "metadata": {},
   "outputs": [],
   "source": [
    "spark = SparkSession.builder \\\n",
    "    .appName(\"RetailSalesAnalysis\") \\\n",
    "    .getOrCreate()"
   ]
  },
  {
   "cell_type": "code",
   "execution_count": 3,
   "id": "2d63c6f5-2d9e-4fd8-8513-0f56ecc8de0b",
   "metadata": {},
   "outputs": [],
   "source": [
    "df = spark.read.csv(\"dados/global_retail_sales_data.csv\", header=True, inferSchema=True)"
   ]
  },
  {
   "cell_type": "code",
   "execution_count": 4,
   "id": "c8ed03cc-5d6b-453e-b1fb-12f454ec3d69",
   "metadata": {},
   "outputs": [
    {
     "name": "stdout",
     "output_type": "stream",
     "text": [
      "root\n",
      " |-- Transaction ID: string (nullable = true)\n",
      " |-- Date: date (nullable = true)\n",
      " |-- Store ID: string (nullable = true)\n",
      " |-- Product ID: string (nullable = true)\n",
      " |-- Category: string (nullable = true)\n",
      " |-- Sub-Category: string (nullable = true)\n",
      " |-- Quantity Sold: integer (nullable = true)\n",
      " |-- Price: double (nullable = true)\n",
      " |-- Discount: double (nullable = true)\n",
      " |-- Total Sales: double (nullable = true)\n",
      " |-- Customer ID: string (nullable = true)\n",
      " |-- Payment Method: string (nullable = true)\n",
      " |-- Store Location: string (nullable = true)\n",
      " |-- Customer Age: integer (nullable = true)\n",
      " |-- Customer Gender: string (nullable = true)\n",
      " |-- Customer Segment: string (nullable = true)\n",
      " |-- Loyalty Program: string (nullable = true)\n",
      " |-- Feedback Rating: integer (nullable = true)\n",
      " |-- Employee ID: string (nullable = true)\n",
      " |-- Store Type: string (nullable = true)\n",
      "\n"
     ]
    }
   ],
   "source": [
    "df.printSchema()"
   ]
  },
  {
   "cell_type": "code",
   "execution_count": 5,
   "id": "d2f591da-620e-4f02-b64e-39726eaa4db5",
   "metadata": {},
   "outputs": [
    {
     "data": {
      "text/html": [
       "<div>\n",
       "<style scoped>\n",
       "    .dataframe tbody tr th:only-of-type {\n",
       "        vertical-align: middle;\n",
       "    }\n",
       "\n",
       "    .dataframe tbody tr th {\n",
       "        vertical-align: top;\n",
       "    }\n",
       "\n",
       "    .dataframe thead th {\n",
       "        text-align: right;\n",
       "    }\n",
       "</style>\n",
       "<table border=\"1\" class=\"dataframe\">\n",
       "  <thead>\n",
       "    <tr style=\"text-align: right;\">\n",
       "      <th></th>\n",
       "      <th>Transaction ID</th>\n",
       "      <th>Date</th>\n",
       "      <th>Store ID</th>\n",
       "      <th>Product ID</th>\n",
       "      <th>Category</th>\n",
       "      <th>Sub-Category</th>\n",
       "      <th>Quantity Sold</th>\n",
       "      <th>Price</th>\n",
       "      <th>Discount</th>\n",
       "      <th>Total Sales</th>\n",
       "      <th>Customer ID</th>\n",
       "      <th>Payment Method</th>\n",
       "      <th>Store Location</th>\n",
       "      <th>Customer Age</th>\n",
       "      <th>Customer Gender</th>\n",
       "      <th>Customer Segment</th>\n",
       "      <th>Loyalty Program</th>\n",
       "      <th>Feedback Rating</th>\n",
       "      <th>Employee ID</th>\n",
       "      <th>Store Type</th>\n",
       "    </tr>\n",
       "  </thead>\n",
       "  <tbody>\n",
       "    <tr>\n",
       "      <th>0</th>\n",
       "      <td>T0000001</td>\n",
       "      <td>2023-10-13</td>\n",
       "      <td>S074</td>\n",
       "      <td>P00991</td>\n",
       "      <td>Groceries</td>\n",
       "      <td>Dairy</td>\n",
       "      <td>7</td>\n",
       "      <td>56.49</td>\n",
       "      <td>0.20</td>\n",
       "      <td>316.34</td>\n",
       "      <td>d49b8699-04cd-424c-8ffa-dd6210950328</td>\n",
       "      <td>Online Payment</td>\n",
       "      <td>Martinstad, Guinea</td>\n",
       "      <td>41</td>\n",
       "      <td>Female</td>\n",
       "      <td>VIP</td>\n",
       "      <td>No</td>\n",
       "      <td>2</td>\n",
       "      <td>E0258</td>\n",
       "      <td>Online</td>\n",
       "    </tr>\n",
       "    <tr>\n",
       "      <th>1</th>\n",
       "      <td>T0000002</td>\n",
       "      <td>2022-12-13</td>\n",
       "      <td>S044</td>\n",
       "      <td>P00266</td>\n",
       "      <td>Groceries</td>\n",
       "      <td>Snacks</td>\n",
       "      <td>1</td>\n",
       "      <td>521.88</td>\n",
       "      <td>0.03</td>\n",
       "      <td>506.22</td>\n",
       "      <td>e46ee47a-c8d8-488d-89a2-3c7f58090a46</td>\n",
       "      <td>Online Payment</td>\n",
       "      <td>New Micheleview, Paraguay</td>\n",
       "      <td>68</td>\n",
       "      <td>Female</td>\n",
       "      <td>Regular</td>\n",
       "      <td>No</td>\n",
       "      <td>3</td>\n",
       "      <td>E0081</td>\n",
       "      <td>Online</td>\n",
       "    </tr>\n",
       "    <tr>\n",
       "      <th>2</th>\n",
       "      <td>T0000003</td>\n",
       "      <td>2022-09-15</td>\n",
       "      <td>S030</td>\n",
       "      <td>P00711</td>\n",
       "      <td>Groceries</td>\n",
       "      <td>Fruits</td>\n",
       "      <td>6</td>\n",
       "      <td>961.08</td>\n",
       "      <td>0.02</td>\n",
       "      <td>5651.15</td>\n",
       "      <td>01255bf5-ae89-45bc-99dc-6aade26b41f9</td>\n",
       "      <td>Cash</td>\n",
       "      <td>Martinstad, Guinea</td>\n",
       "      <td>47</td>\n",
       "      <td>Male</td>\n",
       "      <td>VIP</td>\n",
       "      <td>Yes</td>\n",
       "      <td>2</td>\n",
       "      <td>E0446</td>\n",
       "      <td>Online</td>\n",
       "    </tr>\n",
       "    <tr>\n",
       "      <th>3</th>\n",
       "      <td>T0000004</td>\n",
       "      <td>2023-02-28</td>\n",
       "      <td>S042</td>\n",
       "      <td>P00733</td>\n",
       "      <td>Furniture</td>\n",
       "      <td>Tables</td>\n",
       "      <td>8</td>\n",
       "      <td>417.71</td>\n",
       "      <td>0.26</td>\n",
       "      <td>2472.84</td>\n",
       "      <td>a62979a4-9370-4b08-abac-8ed0284115ab</td>\n",
       "      <td>Cash</td>\n",
       "      <td>Lake Diana, Nepal</td>\n",
       "      <td>37</td>\n",
       "      <td>Female</td>\n",
       "      <td>VIP</td>\n",
       "      <td>Yes</td>\n",
       "      <td>5</td>\n",
       "      <td>E0152</td>\n",
       "      <td>Outlet</td>\n",
       "    </tr>\n",
       "    <tr>\n",
       "      <th>4</th>\n",
       "      <td>T0000005</td>\n",
       "      <td>2023-12-12</td>\n",
       "      <td>S010</td>\n",
       "      <td>P00815</td>\n",
       "      <td>Electronics</td>\n",
       "      <td>Laptops</td>\n",
       "      <td>8</td>\n",
       "      <td>70.94</td>\n",
       "      <td>0.28</td>\n",
       "      <td>408.61</td>\n",
       "      <td>296c62a6-e926-4870-9bce-219275fa542f</td>\n",
       "      <td>Online Payment</td>\n",
       "      <td>Port Melanie, Moldova</td>\n",
       "      <td>21</td>\n",
       "      <td>Male</td>\n",
       "      <td>Regular</td>\n",
       "      <td>No</td>\n",
       "      <td>4</td>\n",
       "      <td>E0055</td>\n",
       "      <td>Outlet</td>\n",
       "    </tr>\n",
       "  </tbody>\n",
       "</table>\n",
       "</div>"
      ],
      "text/plain": [
       "  Transaction ID        Date Store ID Product ID     Category Sub-Category  \\\n",
       "0       T0000001  2023-10-13     S074     P00991    Groceries        Dairy   \n",
       "1       T0000002  2022-12-13     S044     P00266    Groceries       Snacks   \n",
       "2       T0000003  2022-09-15     S030     P00711    Groceries       Fruits   \n",
       "3       T0000004  2023-02-28     S042     P00733    Furniture       Tables   \n",
       "4       T0000005  2023-12-12     S010     P00815  Electronics      Laptops   \n",
       "\n",
       "   Quantity Sold   Price  Discount  Total Sales  \\\n",
       "0              7   56.49      0.20       316.34   \n",
       "1              1  521.88      0.03       506.22   \n",
       "2              6  961.08      0.02      5651.15   \n",
       "3              8  417.71      0.26      2472.84   \n",
       "4              8   70.94      0.28       408.61   \n",
       "\n",
       "                            Customer ID  Payment Method  \\\n",
       "0  d49b8699-04cd-424c-8ffa-dd6210950328  Online Payment   \n",
       "1  e46ee47a-c8d8-488d-89a2-3c7f58090a46  Online Payment   \n",
       "2  01255bf5-ae89-45bc-99dc-6aade26b41f9            Cash   \n",
       "3  a62979a4-9370-4b08-abac-8ed0284115ab            Cash   \n",
       "4  296c62a6-e926-4870-9bce-219275fa542f  Online Payment   \n",
       "\n",
       "              Store Location  Customer Age Customer Gender Customer Segment  \\\n",
       "0         Martinstad, Guinea            41          Female              VIP   \n",
       "1  New Micheleview, Paraguay            68          Female          Regular   \n",
       "2         Martinstad, Guinea            47            Male              VIP   \n",
       "3          Lake Diana, Nepal            37          Female              VIP   \n",
       "4      Port Melanie, Moldova            21            Male          Regular   \n",
       "\n",
       "  Loyalty Program  Feedback Rating Employee ID Store Type  \n",
       "0              No                2       E0258     Online  \n",
       "1              No                3       E0081     Online  \n",
       "2             Yes                2       E0446     Online  \n",
       "3             Yes                5       E0152     Outlet  \n",
       "4              No                4       E0055     Outlet  "
      ]
     },
     "execution_count": 5,
     "metadata": {},
     "output_type": "execute_result"
    }
   ],
   "source": [
    "df.limit(5).toPandas()"
   ]
  },
  {
   "cell_type": "markdown",
   "id": "0fe61d21-ea11-4e7e-b234-45eb90acb10e",
   "metadata": {},
   "source": [
    "### Q1. How many transactions were recorded in the dataset?"
   ]
  },
  {
   "cell_type": "code",
   "execution_count": 6,
   "id": "cb557cb7-622e-489a-af05-f107dfc178e4",
   "metadata": {},
   "outputs": [
    {
     "data": {
      "text/plain": [
       "10000"
      ]
     },
     "execution_count": 6,
     "metadata": {},
     "output_type": "execute_result"
    }
   ],
   "source": [
    "df.count()"
   ]
  },
  {
   "cell_type": "markdown",
   "id": "8b00e246-83a1-4a7f-84e6-80c6e6b10094",
   "metadata": {},
   "source": [
    "### Q2. What is the total revenue generated across all transactions?"
   ]
  },
  {
   "cell_type": "code",
   "execution_count": 7,
   "id": "8b6f8319-6b2c-4c95-b8c3-795cf98eeb04",
   "metadata": {},
   "outputs": [
    {
     "name": "stdout",
     "output_type": "stream",
     "text": [
      "+--------------------+\n",
      "|       Total Revenue|\n",
      "+--------------------+\n",
      "|2.3508131990000144E7|\n",
      "+--------------------+\n",
      "\n"
     ]
    }
   ],
   "source": [
    "df.agg(f.sum(\"Total Sales\").alias(\"Total Revenue\")).show()"
   ]
  },
  {
   "cell_type": "markdown",
   "id": "6fb07c4a-454e-4f6a-acf9-3b39c3cf284a",
   "metadata": {},
   "source": [
    "### Q3. How many unique products are there in the dataset?"
   ]
  },
  {
   "cell_type": "code",
   "execution_count": 8,
   "id": "c66e9d27-5277-42fe-99e6-df1e122ea612",
   "metadata": {},
   "outputs": [
    {
     "data": {
      "text/plain": [
       "1000"
      ]
     },
     "execution_count": 8,
     "metadata": {},
     "output_type": "execute_result"
    }
   ],
   "source": [
    "df.select(\"Product ID\").distinct().count()"
   ]
  },
  {
   "cell_type": "markdown",
   "id": "46a292fa-197a-4983-9d10-1b515443c7f0",
   "metadata": {},
   "source": [
    "### Q4. Which product category has the most transactions?"
   ]
  },
  {
   "cell_type": "code",
   "execution_count": 9,
   "id": "9962ee78-fb52-4bf7-9038-7a3ff17a80eb",
   "metadata": {},
   "outputs": [
    {
     "name": "stdout",
     "output_type": "stream",
     "text": [
      "+-----------+-----+\n",
      "|   Category|count|\n",
      "+-----------+-----+\n",
      "|Electronics| 2035|\n",
      "+-----------+-----+\n",
      "only showing top 1 row\n",
      "\n"
     ]
    }
   ],
   "source": [
    "df.groupBy(\"Category\").count().orderBy(f.col(\"count\").desc()).show(1)"
   ]
  },
  {
   "cell_type": "markdown",
   "id": "49e6f271-e168-44f4-b38d-99aa42f0c450",
   "metadata": {},
   "source": [
    "### Q5. How many different payment methods were used in the dataset?"
   ]
  },
  {
   "cell_type": "code",
   "execution_count": 10,
   "id": "d76f1296-da27-4614-9554-a816670a6a21",
   "metadata": {},
   "outputs": [
    {
     "data": {
      "text/plain": [
       "3"
      ]
     },
     "execution_count": 10,
     "metadata": {},
     "output_type": "execute_result"
    }
   ],
   "source": [
    "df.select(\"Payment Method\").distinct().count()"
   ]
  },
  {
   "cell_type": "markdown",
   "id": "495fe6dd-7be8-4896-b9fb-7e7d030490a5",
   "metadata": {},
   "source": [
    "### Q6. What is the average transaction amount?"
   ]
  },
  {
   "cell_type": "code",
   "execution_count": 11,
   "id": "512cd70a-0ca4-427e-b9cc-3c99ba476e78",
   "metadata": {},
   "outputs": [
    {
     "name": "stdout",
     "output_type": "stream",
     "text": [
      "+--------------------------+\n",
      "|Average Transaction Amount|\n",
      "+--------------------------+\n",
      "|        2350.8131990000143|\n",
      "+--------------------------+\n",
      "\n"
     ]
    }
   ],
   "source": [
    "df.agg(f.avg(\"Total Sales\").alias(\"Average Transaction Amount\")).show()"
   ]
  },
  {
   "cell_type": "markdown",
   "id": "9567c3a4-274c-49c7-a366-310922121ac2",
   "metadata": {},
   "source": [
    "### Q7. Which store has the highest total sales?"
   ]
  },
  {
   "cell_type": "code",
   "execution_count": 12,
   "id": "cd03bd7a-d343-4d4f-a54a-bbae73a9c147",
   "metadata": {},
   "outputs": [
    {
     "name": "stdout",
     "output_type": "stream",
     "text": [
      "+--------+-----------------+\n",
      "|Store ID|      Total Sales|\n",
      "+--------+-----------------+\n",
      "|    S039|295627.3300000001|\n",
      "+--------+-----------------+\n",
      "only showing top 1 row\n",
      "\n"
     ]
    }
   ],
   "source": [
    "df.groupBy(\"Store ID\").agg(f.sum(\"Total Sales\").alias(\"Total Sales\")).orderBy(f.col(\"Total Sales\").desc()).show(1)"
   ]
  },
  {
   "cell_type": "markdown",
   "id": "0d654c81-2933-4d65-96d5-2673bb8a72d8",
   "metadata": {},
   "source": [
    "### Q8. What is the average discount applied across all transactions?"
   ]
  },
  {
   "cell_type": "code",
   "execution_count": 13,
   "id": "de101ec3-9a5e-4588-b2bd-ea509d4fe982",
   "metadata": {},
   "outputs": [
    {
     "name": "stdout",
     "output_type": "stream",
     "text": [
      "+-------------------+\n",
      "|   Avarage Discount|\n",
      "+-------------------+\n",
      "|0.15025099999999697|\n",
      "+-------------------+\n",
      "\n"
     ]
    }
   ],
   "source": [
    "df.agg(f.avg(\"Discount\").alias(\"Avarage Discount\")).show()"
   ]
  },
  {
   "cell_type": "markdown",
   "id": "d5290407-6bc4-46f2-9513-86016583d5c7",
   "metadata": {},
   "source": [
    "### Q9. How many transactions were made by VIP customers?"
   ]
  },
  {
   "cell_type": "code",
   "execution_count": 14,
   "id": "25f9234e-083b-454a-8737-180d8fae35c7",
   "metadata": {},
   "outputs": [
    {
     "data": {
      "text/plain": [
       "4895"
      ]
     },
     "execution_count": 14,
     "metadata": {},
     "output_type": "execute_result"
    }
   ],
   "source": [
    "df.filter(f.col(\"Customer Segment\") == \"VIP\").count()"
   ]
  },
  {
   "cell_type": "markdown",
   "id": "4154ad72-b690-4565-b094-f85f15eac971",
   "metadata": {},
   "source": [
    "### Q10. Which store type (e.g., Supermarket, Online, Outlet) has the highest average feedback rating?"
   ]
  },
  {
   "cell_type": "code",
   "execution_count": 15,
   "id": "3b07d096-945c-4a8a-bff4-a5e56928ad3c",
   "metadata": {},
   "outputs": [
    {
     "name": "stdout",
     "output_type": "stream",
     "text": [
      "+----------+-----------------------+\n",
      "|Store Type|Avarage Feedback Rating|\n",
      "+----------+-----------------------+\n",
      "|    Outlet|     3.0015073861923427|\n",
      "+----------+-----------------------+\n",
      "only showing top 1 row\n",
      "\n"
     ]
    }
   ],
   "source": [
    "df.groupBy(\"Store Type\").agg(f.avg(\"Feedback Rating\").alias(\"Avarage Feedback Rating\")).orderBy(f.col(\"Avarage Feedback Rating\").desc()).show(1)"
   ]
  },
  {
   "cell_type": "markdown",
   "id": "81a2a32c-843d-4cc1-88df-0aca0136e0da",
   "metadata": {},
   "source": [
    "### Q11. What is the total sales amount for each store across different months?"
   ]
  },
  {
   "cell_type": "code",
   "execution_count": 16,
   "id": "e737c8b2-4412-4d9b-b8b2-cf3f909c1067",
   "metadata": {},
   "outputs": [],
   "source": [
    "# Extract the year and month from the Date column\n",
    "df = df.withColumn(\"Year\", f.year(f.col(\"Date\")))\n",
    "df = df.withColumn(\"Month\", f.month(f.col(\"Date\")))"
   ]
  },
  {
   "cell_type": "code",
   "execution_count": 17,
   "id": "6dae5766-c671-4a49-beaf-40aeb168b320",
   "metadata": {},
   "outputs": [],
   "source": [
    "# Group by Store ID, Year, and Month and calculate the total sales\n",
    "total_sales_per_store_month = df.groupBy(\"Store ID\", \"Year\", \"Month\") \\\n",
    "                                .agg(f.sum(\"Total Sales\").alias(\"Total Sales\"))"
   ]
  },
  {
   "cell_type": "code",
   "execution_count": 18,
   "id": "3128b973-2995-4547-9f67-95b287c3fce8",
   "metadata": {},
   "outputs": [
    {
     "name": "stdout",
     "output_type": "stream",
     "text": [
      "+--------+----+-----+------------------+\n",
      "|Store ID|Year|Month|       Total Sales|\n",
      "+--------+----+-----+------------------+\n",
      "|    S001|2022|    9| 5989.860000000001|\n",
      "|    S001|2022|   10|          17982.27|\n",
      "|    S001|2022|   11|           4408.25|\n",
      "|    S001|2022|   12|16871.569999999996|\n",
      "|    S001|2023|    1|          10861.85|\n",
      "|    S001|2023|    2|           11993.2|\n",
      "|    S001|2023|    3|            5205.3|\n",
      "|    S001|2023|    4|            8344.8|\n",
      "|    S001|2023|    5|          16104.75|\n",
      "|    S001|2023|    6|           4629.76|\n",
      "|    S001|2023|    7|          17687.41|\n",
      "|    S001|2023|    8|           8633.63|\n",
      "|    S001|2023|    9|           10148.9|\n",
      "|    S001|2023|   10|          19128.98|\n",
      "|    S001|2023|   11|10259.849999999999|\n",
      "|    S001|2023|   12|          16521.89|\n",
      "|    S001|2024|    1|21536.999999999996|\n",
      "|    S001|2024|    2|           4073.62|\n",
      "|    S001|2024|    3|            4911.1|\n",
      "|    S001|2024|    4|14524.789999999999|\n",
      "+--------+----+-----+------------------+\n",
      "only showing top 20 rows\n",
      "\n"
     ]
    }
   ],
   "source": [
    "# Show the result\n",
    "total_sales_per_store_month.orderBy(\"Store ID\", \"Year\", \"Month\").show()"
   ]
  },
  {
   "cell_type": "markdown",
   "id": "b329800c-f623-49ad-bcc2-e630f3647297",
   "metadata": {},
   "source": [
    "### Q12. Which store has the highest average feedback rating?"
   ]
  },
  {
   "cell_type": "code",
   "execution_count": 19,
   "id": "7362f750-23ca-4357-ba72-eb31a0d7a608",
   "metadata": {},
   "outputs": [
    {
     "name": "stdout",
     "output_type": "stream",
     "text": [
      "+--------+-----------------------+\n",
      "|Store ID|Average Feedback Rating|\n",
      "+--------+-----------------------+\n",
      "|    S005|     3.4234234234234235|\n",
      "+--------+-----------------------+\n",
      "\n"
     ]
    }
   ],
   "source": [
    "# Group by Store ID and calculate the average feedback rating\n",
    "avg_feedback_per_store = df.groupBy(\"Store ID\") \\\n",
    "                           .agg(f.avg(\"Feedback Rating\").alias(\"Average Feedback Rating\"))\n",
    "\n",
    "# Order by Average Feedback Rating in descending order and get the top store\n",
    "top_store = avg_feedback_per_store.orderBy(f.col(\"Average Feedback Rating\").desc()).limit(1)\n",
    "\n",
    "# Show the result\n",
    "top_store.show()"
   ]
  },
  {
   "cell_type": "markdown",
   "id": "a64134fd-befc-48b6-a4d3-9a7f6d1ab0c2",
   "metadata": {},
   "source": [
    "### Q13. How does the average discount percentage vary by product category?"
   ]
  },
  {
   "cell_type": "code",
   "execution_count": 20,
   "id": "e8e6c999-2d54-4bf6-be05-586e226d617c",
   "metadata": {},
   "outputs": [
    {
     "name": "stdout",
     "output_type": "stream",
     "text": [
      "+-----------+-------------------+\n",
      "|   Category|   Average Discount|\n",
      "+-----------+-------------------+\n",
      "|   Clothing|0.15178286852589584|\n",
      "|Electronics|0.15120393120393072|\n",
      "|       Toys|0.15084521384928679|\n",
      "|  Furniture|0.14925607287449394|\n",
      "|  Groceries|0.14816063460585016|\n",
      "+-----------+-------------------+\n",
      "\n"
     ]
    }
   ],
   "source": [
    "# Group by Category and calculate the average discount percentage\n",
    "avg_discount_per_category = df.groupBy(\"Category\") \\\n",
    "                              .agg(f.avg(\"Discount\").alias(\"Average Discount\"))\n",
    "\n",
    "# Order the result by Average Discount for better readability (optional)\n",
    "avg_discount_per_category = avg_discount_per_category.orderBy(f.col(\"Average Discount\").desc())\n",
    "\n",
    "# Show the result\n",
    "avg_discount_per_category.show()"
   ]
  },
  {
   "cell_type": "markdown",
   "id": "a3a325a8-192c-4550-8cdb-c208cc04e979",
   "metadata": {},
   "source": [
    "### Q14. What is the most popular payment method used by customers in different countries?"
   ]
  },
  {
   "cell_type": "code",
   "execution_count": 21,
   "id": "7ed02281-95b7-4dea-8213-adf1ce77ac08",
   "metadata": {},
   "outputs": [
    {
     "name": "stdout",
     "output_type": "stream",
     "text": [
      "+--------------------+--------------+-----+\n",
      "|             Country|Payment Method|Count|\n",
      "+--------------------+--------------+-----+\n",
      "|         Afghanistan|Online Payment|   39|\n",
      "|             Albania|   Credit Card|   80|\n",
      "|             Andorra|          Cash|   42|\n",
      "|              Angola|Online Payment|   39|\n",
      "|            Anguilla|   Credit Card|   35|\n",
      "|Antarctica (the t...|          Cash|   35|\n",
      "| Antigua and Barbuda|Online Payment|   35|\n",
      "|             Austria|   Credit Card|   50|\n",
      "|             Bahamas|   Credit Card|   38|\n",
      "|             Bahrain|Online Payment|   43|\n",
      "|             Belarus|   Credit Card|   34|\n",
      "|               Benin|Online Payment|   44|\n",
      "|             Bermuda|          Cash|   39|\n",
      "|              Bhutan|Online Payment|   81|\n",
      "|British Virgin Is...|   Credit Card|   39|\n",
      "|                Chad|Online Payment|   38|\n",
      "|               Chile|          Cash|   40|\n",
      "|    Christmas Island|   Credit Card|   35|\n",
      "|Cocos (Keeling) I...|Online Payment|   46|\n",
      "|            Colombia|          Cash|   54|\n",
      "+--------------------+--------------+-----+\n",
      "only showing top 20 rows\n",
      "\n"
     ]
    }
   ],
   "source": [
    "# Extract the country from the store location (assuming store location format is \"City, Country\")\n",
    "df = df.withColumn(\"Country\", f.split(f.col(\"Store Location\"), \", \").getItem(1))\n",
    "\n",
    "# Group by Country and Payment Method, and count the transactions\n",
    "payment_method_count = df.groupBy(\"Country\", \"Payment Method\") \\\n",
    "                         .agg(f.count(\"Transaction ID\").alias(\"Count\"))\n",
    "\n",
    "# Use a window function to determine the most popular payment method per country\n",
    "window = Window.partitionBy(\"Country\").orderBy(f.col(\"Count\").desc())\n",
    "\n",
    "# Add a rank to determine the most popular payment method\n",
    "ranked_payment_methods = payment_method_count.withColumn(\"Rank\", f.row_number().over(window))\n",
    "\n",
    "# Filter to keep only the most popular payment method per country\n",
    "most_popular_payment_method = ranked_payment_methods.filter(f.col(\"Rank\") == 1)\n",
    "\n",
    "# Show the result\n",
    "most_popular_payment_method.select(\"Country\", \"Payment Method\", \"Count\").show()"
   ]
  },
  {
   "cell_type": "markdown",
   "id": "1fd15b87-3c4b-464e-89c8-73ef15326047",
   "metadata": {},
   "source": [
    "### Q15. Identify the top 10 products with the highest total sales."
   ]
  },
  {
   "cell_type": "code",
   "execution_count": 22,
   "id": "d49d1abc-c23a-4521-8201-e0514d108f8a",
   "metadata": {},
   "outputs": [
    {
     "name": "stdout",
     "output_type": "stream",
     "text": [
      "+----------+------------------+\n",
      "|Product ID|       Total Sales|\n",
      "+----------+------------------+\n",
      "|    P00350|           65583.9|\n",
      "|    P00225|53441.270000000004|\n",
      "|    P00842|53168.240000000005|\n",
      "|    P00415| 51834.43000000001|\n",
      "|    P00743|51455.810000000005|\n",
      "|    P00691|          50373.47|\n",
      "|    P00186|50283.850000000006|\n",
      "|    P00386| 49821.72999999999|\n",
      "|    P00958|49193.369999999995|\n",
      "|    P00340| 48476.54999999999|\n",
      "+----------+------------------+\n",
      "\n"
     ]
    }
   ],
   "source": [
    "# Group by Product ID and calculate the total sales\n",
    "total_sales_per_product = df.groupBy(\"Product ID\") \\\n",
    "                            .agg(f.sum(\"Total Sales\").alias(\"Total Sales\"))\n",
    "\n",
    "# Order by Total Sales in descending order and get the top 10 products\n",
    "top_10_products = total_sales_per_product.orderBy(f.col(\"Total Sales\").desc()).limit(10)\n",
    "\n",
    "# Show the result\n",
    "top_10_products.show()"
   ]
  },
  {
   "cell_type": "markdown",
   "id": "ffc2f0f2-7b8a-42ea-9cd6-0911ae1c9037",
   "metadata": {},
   "source": [
    "### Q16. Which customer segment (Regular, VIP) contributes the most to total sales?"
   ]
  },
  {
   "cell_type": "code",
   "execution_count": 23,
   "id": "40379f94-718d-4fcd-b351-d60dbae188db",
   "metadata": {},
   "outputs": [
    {
     "name": "stdout",
     "output_type": "stream",
     "text": [
      "+----------------+--------------------+\n",
      "|Customer Segment|         Total Sales|\n",
      "+----------------+--------------------+\n",
      "|         Regular|1.1948929059999974E7|\n",
      "|             VIP|1.1559202930000018E7|\n",
      "+----------------+--------------------+\n",
      "\n"
     ]
    }
   ],
   "source": [
    "# Group by Customer Segment and calculate the total sales\n",
    "total_sales_per_segment = df.groupBy(\"Customer Segment\") \\\n",
    "                            .agg(f.sum(\"Total Sales\").alias(\"Total Sales\"))\n",
    "\n",
    "# Order by Total Sales in descending order\n",
    "total_sales_per_segment = total_sales_per_segment.orderBy(f.col(\"Total Sales\").desc())\n",
    "\n",
    "# Show the result\n",
    "total_sales_per_segment.show()"
   ]
  },
  {
   "cell_type": "markdown",
   "id": "65d8aea9-9384-49c1-a37f-cd538eba02b1",
   "metadata": {},
   "source": [
    "### Q17. Analyze the sales trend over time for different product categories."
   ]
  },
  {
   "cell_type": "code",
   "execution_count": 24,
   "id": "402352e5-bd51-41c8-b9ae-f2bb681d0f0e",
   "metadata": {},
   "outputs": [
    {
     "name": "stdout",
     "output_type": "stream",
     "text": [
      "+--------+----+-----+------------------+\n",
      "|Category|Year|Month|       Total Sales|\n",
      "+--------+----+-----+------------------+\n",
      "|Clothing|2022|    9|180573.57000000004|\n",
      "|Clothing|2022|   10|         281169.85|\n",
      "|Clothing|2022|   11|184325.97999999998|\n",
      "|Clothing|2022|   12|188024.62999999998|\n",
      "|Clothing|2023|    1|200487.02000000008|\n",
      "+--------+----+-----+------------------+\n",
      "only showing top 5 rows\n",
      "\n"
     ]
    }
   ],
   "source": [
    "# Extract the year and month from the Date column\n",
    "df = df.withColumn(\"Year\", f.year(f.col(\"Date\")))\n",
    "df = df.withColumn(\"Month\", f.month(f.col(\"Date\")))\n",
    "\n",
    "# Group by Category, Year, and Month, and calculate the total sales\n",
    "sales_trend = df.groupBy(\"Category\", \"Year\", \"Month\") \\\n",
    "                .agg(f.sum(\"Total Sales\").alias(\"Total Sales\"))\n",
    "\n",
    "# Order the result by Category, Year, and Month\n",
    "sales_trend = sales_trend.orderBy(\"Category\", \"Year\", \"Month\")\n",
    "\n",
    "sales_trend.show(5)"
   ]
  },
  {
   "cell_type": "markdown",
   "id": "891c3085-ec04-4498-932a-65156c08b9fa",
   "metadata": {},
   "source": [
    "### Q18. Which stores have the highest sales growth rate over the past year?"
   ]
  },
  {
   "cell_type": "code",
   "execution_count": 25,
   "id": "6d869209-176c-481c-b72f-f841544973a4",
   "metadata": {},
   "outputs": [
    {
     "name": "stdout",
     "output_type": "stream",
     "text": [
      "+--------+----+------------------+-------------------+------------------+\n",
      "|Store ID|Year|       Total Sales|Previous Year Sales|       Growth Rate|\n",
      "+--------+----+------------------+-------------------+------------------+\n",
      "|    S097|2023|144121.25999999998|            9851.29|13.629684031228393|\n",
      "|    S053|2023|130308.31000000001|           18299.13|  6.12101121747318|\n",
      "|    S061|2023|127207.56999999996|           20900.41| 5.086367205236642|\n",
      "|    S040|2023|125535.66999999998| 22710.819999999996|4.5275709991977395|\n",
      "|    S096|2023|         137113.59|           24839.58| 4.519964105673284|\n",
      "|    S003|2023|105611.00999999995|           20788.22| 4.080329628991802|\n",
      "|    S077|2023|122598.29999999999| 25560.850000000006| 3.796331107924813|\n",
      "|    S039|2023|167740.20999999993|           36790.56| 3.559327447040761|\n",
      "|    S041|2023|          141922.1| 32321.710000000006|3.3909217674436154|\n",
      "|    S055|2023|113229.07999999999|           27062.88| 3.183925731481645|\n",
      "+--------+----+------------------+-------------------+------------------+\n",
      "\n"
     ]
    }
   ],
   "source": [
    "# Extract the year from the Date column\n",
    "df = df.withColumn(\"Year\", f.year(f.col(\"Date\")))\n",
    "\n",
    "# Calculate total sales for each store by year\n",
    "sales_per_store_year = df.groupBy(\"Store ID\", \"Year\") \\\n",
    "                         .agg(f.sum(\"Total Sales\").alias(\"Total Sales\"))\n",
    "\n",
    "# Create a window specification to calculate the sales for the previous year\n",
    "window_spec = Window.partitionBy(\"Store ID\").orderBy(\"Year\")\n",
    "\n",
    "# Calculate the previous year's sales for each store\n",
    "sales_per_store_year = sales_per_store_year.withColumn(\"Previous Year Sales\", f.lag(\"Total Sales\").over(window_spec))\n",
    "\n",
    "# Calculate the growth rate as (current year sales - previous year sales) / previous year sales\n",
    "sales_per_store_year = sales_per_store_year.withColumn(\"Growth Rate\", \n",
    "                                                       (f.col(\"Total Sales\") - f.col(\"Previous Year Sales\")) / f.col(\"Previous Year Sales\"))\n",
    "\n",
    "# Filter out rows where growth rate cannot be calculated (e.g., the first year)\n",
    "sales_per_store_year = sales_per_store_year.filter(f.col(\"Previous Year Sales\").isNotNull())\n",
    "\n",
    "# Identify the stores with the highest growth rate\n",
    "top_growth_stores = sales_per_store_year.orderBy(f.col(\"Growth Rate\").desc()).limit(10)\n",
    "\n",
    "# Show the result\n",
    "top_growth_stores.select(\"Store ID\", \"Year\", \"Total Sales\", \"Previous Year Sales\", \"Growth Rate\").show()"
   ]
  },
  {
   "cell_type": "markdown",
   "id": "1d183192-c186-4116-ab94-17c9bf6d5d3d",
   "metadata": {},
   "source": [
    "### Q19. What is the average purchase amount by different age groups?"
   ]
  },
  {
   "cell_type": "code",
   "execution_count": 26,
   "id": "004346f3-ee05-45c1-8867-67085bf92661",
   "metadata": {},
   "outputs": [
    {
     "name": "stdout",
     "output_type": "stream",
     "text": [
      "+---------+-----------------------+\n",
      "|Age Group|Average Purchase Amount|\n",
      "+---------+-----------------------+\n",
      "|    18-25|        2382.6800729927|\n",
      "|    26-35|      2335.254928533614|\n",
      "|    36-45|     2332.2464622897455|\n",
      "|    46-55|      2397.124820592824|\n",
      "|    56-65|      2341.437943974627|\n",
      "|      66+|      2291.897156448201|\n",
      "+---------+-----------------------+\n",
      "\n"
     ]
    }
   ],
   "source": [
    "# Define age groups using a case-when statement\n",
    "df = df.withColumn(\"Age Group\", f.when(f.col(\"Customer Age\").between(18, 25), \"18-25\")\n",
    "                                 .when(f.col(\"Customer Age\").between(26, 35), \"26-35\")\n",
    "                                 .when(f.col(\"Customer Age\").between(36, 45), \"36-45\")\n",
    "                                 .when(f.col(\"Customer Age\").between(46, 55), \"46-55\")\n",
    "                                 .when(f.col(\"Customer Age\").between(56, 65), \"56-65\")\n",
    "                                 .otherwise(\"66+\"))\n",
    "\n",
    "# Group by Age Group and calculate the average purchase amount\n",
    "avg_purchase_by_age_group = df.groupBy(\"Age Group\") \\\n",
    "                              .agg(f.avg(\"Total Sales\").alias(\"Average Purchase Amount\"))\n",
    "\n",
    "# Order the results by Age Group (optional)\n",
    "avg_purchase_by_age_group = avg_purchase_by_age_group.orderBy(\"Age Group\")\n",
    "\n",
    "# Show the result\n",
    "avg_purchase_by_age_group.show()"
   ]
  },
  {
   "cell_type": "markdown",
   "id": "5f447eac-97ab-48f2-9ab2-0bdb75f082f0",
   "metadata": {},
   "source": [
    "### Q20. Which product sub-categories have the highest return rate (e.g., returns not explicitly stated but implied by negative sales or quantity adjustments)?"
   ]
  },
  {
   "cell_type": "code",
   "execution_count": 27,
   "id": "d0e7527d-2089-422b-affe-b282f89bf2d3",
   "metadata": {},
   "outputs": [
    {
     "name": "stdout",
     "output_type": "stream",
     "text": [
      "+--------------+------------------+------------------+-----------------+\n",
      "|  Sub-Category| Total w/ Discount|     Total Returns|       Total Rate|\n",
      "+--------------+------------------+------------------+-----------------+\n",
      "|       Jackets|1486856.7999999998|231598.94000000006|82.75969566421996|\n",
      "|Action Figures|1535918.0100000019|230601.69000000024| 81.6704855955365|\n",
      "|       Tablets|1439143.2700000003| 217950.5900000001|79.34026674627493|\n",
      "|        Chairs|1340902.2499999995|211954.96000000002|77.97003638421117|\n",
      "|         Dairy|1438172.6700000009|213714.47999999992|77.70003154228694|\n",
      "|         Dolls|1376544.3200000008|212751.11999999982|76.95002562054958|\n",
      "|         Sofas|1475339.1499999987|         217679.78|76.87001793494086|\n",
      "|       Cameras|1457548.6799999997|214623.08999999994|76.26015666068736|\n",
      "|       Laptops|1491591.0799999994|225388.23000000007|76.19047798904171|\n",
      "|   Smartphones| 1344566.949999999|197502.31999999998|75.90975895747852|\n",
      "|         Shoes| 1345162.350000001|197592.40999999995|75.59032246431234|\n",
      "|        Snacks|1406289.4100000013| 203383.6700000001|75.15980036774421|\n",
      "|        Fruits|1330654.7199999997|205957.51000000004|74.50978758909176|\n",
      "|         Jeans|1365795.4599999995| 203749.6800000002|73.73012638790098|\n",
      "|      T-Shirts|1414083.1699999992|222808.36000000013|72.69995014064315|\n",
      "|    Vegetables| 1365204.309999998|206047.98000000004|71.47021334545664|\n",
      "|        Tables|1342467.5900000008|195359.72999999995|71.20981840109414|\n",
      "|       Puzzles|1254715.6999999995|195843.05000000034|69.33966635809821|\n",
      "|          Beds|1212194.5900000003|173632.72999999998|68.87957724831212|\n",
      "|   Board Games|1243575.2600000002|180453.42999999988| 68.3005336788929|\n",
      "+--------------+------------------+------------------+-----------------+\n",
      "\n"
     ]
    }
   ],
   "source": [
    "# Calculate Total w/ Discount and Returns\n",
    "df = df.withColumn(\"Total w/ Discount\", f.col(\"Quantity Sold\") * f.col(\"Price\"))\n",
    "df = df.withColumn(\"Returns\", (f.col(\"Total w/ Discount\") - f.col(\"Total Sales\")))\n",
    "df = df.withColumn(\"Rate\", (f.col(\"Returns\") / f.col(\"Total w/ Discount\")))\n",
    "\n",
    "# Group by Sub-Category and aggregate the results\n",
    "returns_per_subcategory = df.groupBy(\"Sub-Category\") \\\n",
    "                            .agg(f.sum(\"Total w/ Discount\").alias(\"Total w/ Discount\"), \n",
    "                                 f.sum(\"Returns\").alias(\"Total Returns\"),\n",
    "                                 f.sum(\"Rate\").alias(\"Total Rate\"))\n",
    "\n",
    "# Order by Total Returns in descending order and show the highest result\n",
    "highest_returns_subcategory = returns_per_subcategory.orderBy(f.col(\"Total Rate\").desc())\n",
    "\n",
    "# Show the result\n",
    "highest_returns_subcategory.show()"
   ]
  },
  {
   "cell_type": "markdown",
   "id": "a811fed0-c139-4ea3-8590-ec029613b0ef",
   "metadata": {},
   "source": [
    "### Q21. What is the relationship between discount percentage and customer feedback rating?"
   ]
  },
  {
   "cell_type": "code",
   "execution_count": 28,
   "id": "7f658459-ab8d-4bb9-a993-ad92797b0ac6",
   "metadata": {},
   "outputs": [
    {
     "name": "stdout",
     "output_type": "stream",
     "text": [
      "+---------------+---------------------+\n",
      "|Feedback Rating|Avarage Discount Rage|\n",
      "+---------------+---------------------+\n",
      "|              5|  0.15358868894601532|\n",
      "|              4|  0.15091046277665982|\n",
      "|              3|  0.14770833333333283|\n",
      "|              2|  0.14994017946161448|\n",
      "|              1|   0.1492469437652808|\n",
      "+---------------+---------------------+\n",
      "\n"
     ]
    }
   ],
   "source": [
    "df = df.withColumn(\"Discount Percentage\", f.col(\"Price\")*f.col(\"Discount\") / f.col(\"Price\"))\n",
    "\n",
    "feedback_rating_disctount = df.groupBy(\"Feedback Rating\")\\\n",
    "                               .agg(f.avg(\"Discount Percentage\").alias(\"Avarage Discount Rage\"))\\\n",
    "                               .orderBy(f.col(\"Feedback Rating\").desc())\n",
    "\n",
    "feedback_rating_disctount.show()"
   ]
  },
  {
   "cell_type": "markdown",
   "id": "6176ae3d-bd8c-4d30-933b-2dd5037eaaf8",
   "metadata": {},
   "source": [
    "### Q22. How does the customer loyalty program impact total sales and frequency of purchases?"
   ]
  },
  {
   "cell_type": "code",
   "execution_count": 29,
   "id": "88d0afcc-b858-4782-b7c7-19b613f7e2a3",
   "metadata": {},
   "outputs": [
    {
     "name": "stdout",
     "output_type": "stream",
     "text": [
      "+---------------+--------------------+----------------------+\n",
      "|Loyalty Program|         Total Sales|Frequency of Purchases|\n",
      "+---------------+--------------------+----------------------+\n",
      "|             No|1.1867346010000013E7|                  5038|\n",
      "|            Yes|1.1640785979999976E7|                  4962|\n",
      "+---------------+--------------------+----------------------+\n",
      "\n"
     ]
    }
   ],
   "source": [
    "# Group by Loyalty Program and calculate total sales and frequency of purchases\n",
    "loyalty_program_analysis = df.groupBy(\"Loyalty Program\") \\\n",
    "                             .agg(f.sum(\"Total Sales\").alias(\"Total Sales\"),\n",
    "                                  f.count(\"Transaction ID\").alias(\"Frequency of Purchases\"))\n",
    "\n",
    "# Show the result\n",
    "loyalty_program_analysis.show()"
   ]
  },
  {
   "cell_type": "markdown",
   "id": "540fe99c-a4a3-4c1c-b5c9-14eaa5b3f9e8",
   "metadata": {},
   "source": [
    "### Q23. Which cities have the highest number of VIP customers?"
   ]
  },
  {
   "cell_type": "code",
   "execution_count": 30,
   "id": "57ba0f4c-7cd6-4c84-9752-a52326e811de",
   "metadata": {},
   "outputs": [
    {
     "name": "stdout",
     "output_type": "stream",
     "text": [
      "+------------------+---------+\n",
      "|              City|VIP_Count|\n",
      "+------------------+---------+\n",
      "|     New Carolfurt|       68|\n",
      "|  South Cherylside|       67|\n",
      "|  Port Danielburgh|       63|\n",
      "|         Nancyport|       62|\n",
      "|         Huangside|       61|\n",
      "|      Wheelermouth|       60|\n",
      "|       Taylorhaven|       59|\n",
      "|        Port Jerry|       59|\n",
      "|        Lake Diana|       58|\n",
      "|North Karenborough|       58|\n",
      "|  North Stevenland|       58|\n",
      "|        North John|       58|\n",
      "|          Seantown|       58|\n",
      "|        West Ellen|       57|\n",
      "|      Jonesborough|       57|\n",
      "|       East Amanda|       57|\n",
      "|   South Sandraton|       57|\n",
      "|        Duncanstad|       56|\n",
      "|        Booneshire|       56|\n",
      "|    West Haleystad|       56|\n",
      "+------------------+---------+\n",
      "only showing top 20 rows\n",
      "\n"
     ]
    }
   ],
   "source": [
    "# Extract the city from the \"Store Location\" column\n",
    "df = df.withColumn(\"City\", f.split(f.col(\"Store Location\"), \", \").getItem(0))\n",
    "\n",
    "# Filter for VIP customers and group by City\n",
    "vip_customers_cities = df.filter(f.col(\"Customer Segment\") == \"VIP\")\\\n",
    "                         .groupBy(\"City\")\\\n",
    "                         .agg(f.count(\"*\").alias(\"VIP_Count\"))\\\n",
    "                         .orderBy(f.col(\"VIP_Count\").desc())\n",
    "\n",
    "# Show the result\n",
    "vip_customers_cities.show()"
   ]
  },
  {
   "cell_type": "markdown",
   "id": "6bb49136-1d48-4d30-8418-9c216a2cbe03",
   "metadata": {},
   "source": [
    "### Q24. Identify any seasonal trends in sales for specific product categories."
   ]
  },
  {
   "cell_type": "code",
   "execution_count": 31,
   "id": "fc18e2e0-6cec-41c4-97b9-8af27b503a44",
   "metadata": {},
   "outputs": [
    {
     "name": "stdout",
     "output_type": "stream",
     "text": [
      "+-----------+----+-----+------------------+\n",
      "|   Category|Year|Month|       Total Sales|\n",
      "+-----------+----+-----+------------------+\n",
      "|       Toys|2022|   12| 193910.4599999999|\n",
      "|Electronics|2023|   12|181577.18000000002|\n",
      "|       Toys|2023|   12|142413.12999999995|\n",
      "|  Furniture|2022|   12|         274499.61|\n",
      "|Electronics|2022|   12|210889.59000000008|\n",
      "|   Clothing|2023|   12|         208572.44|\n",
      "|  Groceries|2022|   12| 174498.4499999999|\n",
      "|   Clothing|2022|   12|188024.62999999998|\n",
      "|  Furniture|2023|   12|148003.99999999997|\n",
      "|  Groceries|2023|   12|190960.07999999987|\n",
      "|   Clothing|2023|   11|214286.96999999988|\n",
      "|       Toys|2022|   11|149200.50000000003|\n",
      "|  Furniture|2022|   11|          185598.3|\n",
      "|  Groceries|2022|   11|194937.44000000003|\n",
      "|       Toys|2023|   11|208331.46999999997|\n",
      "|Electronics|2022|   11|254889.34000000005|\n",
      "|   Clothing|2022|   11|184325.97999999998|\n",
      "|  Furniture|2023|   11|169109.98000000004|\n",
      "|Electronics|2023|   11|181657.73000000007|\n",
      "|  Groceries|2023|   11|         208498.23|\n",
      "+-----------+----+-----+------------------+\n",
      "only showing top 20 rows\n",
      "\n"
     ]
    }
   ],
   "source": [
    "# Extract the year and month from the Date column\n",
    "df = df.withColumn(\"Year\", f.year(f.col(\"Date\")))\n",
    "df = df.withColumn(\"Month\", f.month(f.col(\"Date\")))\n",
    "\n",
    "seasonal_sales = df.groupBy(\"Category\", \"Year\", \"Month\") \\\n",
    "                            .agg(f.sum(\"Total Sales\").alias(\"Total Sales\")) \\\n",
    "                            .orderBy(f.col(\"Month\").desc())\n",
    "\n",
    "seasonal_sales.show()"
   ]
  },
  {
   "cell_type": "markdown",
   "id": "6a89613a-98b2-4f5e-b8e7-a995bd27b210",
   "metadata": {},
   "source": [
    "### Q25. What is the average transaction amount for online stores compared to physical stores?"
   ]
  },
  {
   "cell_type": "code",
   "execution_count": 32,
   "id": "e8969142-7ed7-4f8b-881d-e94422f0c0d8",
   "metadata": {},
   "outputs": [
    {
     "name": "stdout",
     "output_type": "stream",
     "text": [
      "+--------------+-------------------+\n",
      "|Store Category|Average Total Sales|\n",
      "+--------------+-------------------+\n",
      "|        Online|  2375.496617210682|\n",
      "|      Physical| 2338.2667254901958|\n",
      "+--------------+-------------------+\n",
      "\n"
     ]
    }
   ],
   "source": [
    "# Create a new column \"Store Category\" based on \"Store Type\"\n",
    "df = df.withColumn(\"Store Category\", \n",
    "                   f.when(f.col(\"Store Type\") == \"Online\", \"Online\")\n",
    "                    .when(f.col(\"Store Type\").isin(\"Outlet\", \"Supermarket\"), \"Physical\")\n",
    "                    .otherwise(\"Other\"))\n",
    "\n",
    "# Filter to include only \"Online\" and \"Physical\"\n",
    "filtered_df = df.filter(f.col(\"Store Category\").isin(\"Online\", \"Physical\"))\n",
    "\n",
    "# Group by \"Store Category\" and calculate the average transaction amount\n",
    "avg_transaction_amount = filtered_df.groupBy(\"Store Category\")\\\n",
    "                                   .agg(f.avg(\"Total Sales\").alias(\"Average Total Sales\"))\n",
    "\n",
    "# Show the result\n",
    "avg_transaction_amount.show()"
   ]
  },
  {
   "cell_type": "markdown",
   "id": "04d18adb-3b94-4c28-a823-5975c90e1e27",
   "metadata": {},
   "source": [
    "### Q26. Analyze the relationship between store location and the preferred payment method."
   ]
  },
  {
   "cell_type": "code",
   "execution_count": 33,
   "id": "4a98682d-59d9-4091-ad4c-399d9243713d",
   "metadata": {},
   "outputs": [
    {
     "name": "stdout",
     "output_type": "stream",
     "text": [
      "+--------------------+----+-----------+--------------+\n",
      "|             Country|Cash|Credit Card|Online Payment|\n",
      "+--------------------+----+-----------+--------------+\n",
      "|         Afghanistan|  33|         36|            39|\n",
      "|             Albania|  70|         80|            65|\n",
      "|             Andorra|  42|         38|            32|\n",
      "|              Angola|  30|         27|            39|\n",
      "|            Anguilla|  31|         35|            31|\n",
      "|Antarctica (the t...|  35|         24|            29|\n",
      "| Antigua and Barbuda|  19|         28|            35|\n",
      "|             Austria|  37|         50|            28|\n",
      "|             Bahamas|  37|         38|            22|\n",
      "|             Bahrain|  34|         37|            43|\n",
      "|             Belarus|  25|         34|            32|\n",
      "|               Benin|  30|         23|            44|\n",
      "|             Bermuda|  39|         30|            37|\n",
      "|              Bhutan|  70|         64|            81|\n",
      "|British Virgin Is...|  32|         39|            28|\n",
      "|                Chad|  35|         21|            38|\n",
      "|               Chile|  40|         38|            31|\n",
      "|    Christmas Island|  29|         35|            24|\n",
      "|Cocos (Keeling) I...|  36|         22|            46|\n",
      "|            Colombia|  54|         37|            38|\n",
      "+--------------------+----+-----------+--------------+\n",
      "only showing top 20 rows\n",
      "\n"
     ]
    }
   ],
   "source": [
    "# Get the Country\n",
    "df = df.withColumn(\"Country\", f.split(f.col(\"Store Location\"), \", \").getItem(1))\n",
    "\n",
    "# Calculate the frequency of Payment Method per Country\n",
    "location_payment_method = df.groupBy(\"Country\")\\\n",
    "                            .pivot(\"Payment Method\") \\\n",
    "                            .agg(f.count(\"Payment Method\").alias(\"Transaction Count\"))\n",
    "\n",
    "# Order by Country\n",
    "location_payment_method = location_payment_method.orderBy(\"Country\")\n",
    "\n",
    "# Show the result\n",
    "location_payment_method.show()"
   ]
  },
  {
   "cell_type": "markdown",
   "id": "d6dfa27c-d3a9-4085-becc-9c0500297e0e",
   "metadata": {},
   "source": [
    "### Q27. What is the average number of items purchased per transaction across different store types?"
   ]
  },
  {
   "cell_type": "code",
   "execution_count": 34,
   "id": "194f59f2-62e7-4695-b8f9-5b628d2516d3",
   "metadata": {},
   "outputs": [
    {
     "name": "stdout",
     "output_type": "stream",
     "text": [
      "+-----------+----------+\n",
      "| Store Type|Total Sold|\n",
      "+-----------+----------+\n",
      "|Supermarket|     18283|\n",
      "|     Online|     18635|\n",
      "|     Outlet|     18167|\n",
      "+-----------+----------+\n",
      "\n"
     ]
    }
   ],
   "source": [
    "number_items_store_types = df.groupBy(\"Store Type\").agg(f.sum(\"Quantity Sold\").alias(\"Total Sold\"))\n",
    "\n",
    "number_items_store_types.show()"
   ]
  },
  {
   "cell_type": "markdown",
   "id": "cfd40a33-225a-4913-9f6a-3cc0affd01f1",
   "metadata": {},
   "source": [
    "### Q28. Identify the top 5 employees with the highest total sales and analyze their performance trends."
   ]
  },
  {
   "cell_type": "code",
   "execution_count": 35,
   "id": "72ba4db5-8c96-46d9-81bb-15578bc5a5d4",
   "metadata": {},
   "outputs": [
    {
     "name": "stdout",
     "output_type": "stream",
     "text": [
      "+-----------+-----------+------------------+-------------------+-----------------+---------------------+-----------------------+\n",
      "|Employee ID| Store Type|       Total Sales|Total Quantity Sold|    Avarage Price|Avarage Discount Rage|Avarage Feedback Rating|\n",
      "+-----------+-----------+------------------+-------------------+-----------------+---------------------+-----------------------+\n",
      "|      E0142|     Outlet|          49037.76|                 76|685.9381818181818|  0.13272727272727275|     3.3636363636363638|\n",
      "|      E0020|     Online|          45213.45|                 94|       519.484375|             0.114375|                  3.125|\n",
      "|      E0363|     Outlet|45125.729999999996|                 77|633.3272727272728|   0.1372727272727273|     1.9090909090909092|\n",
      "|      E0079|Supermarket|          43857.33|                 75|654.2819999999999|                0.129|                    2.7|\n",
      "|      E0486|     Online|43830.729999999996|                 89|628.4393333333334|  0.10533333333333333|     3.1333333333333333|\n",
      "+-----------+-----------+------------------+-------------------+-----------------+---------------------+-----------------------+\n",
      "only showing top 5 rows\n",
      "\n"
     ]
    }
   ],
   "source": [
    "df = df.withColumn(\"Discount Percentage\", f.col(\"Price\")*f.col(\"Discount\") / f.col(\"Price\"))\n",
    "\n",
    "top_5_employees = df.groupBy(\"Employee ID\", \"Store Type\")\\\n",
    "                    .agg(f.sum(\"Total Sales\").alias(\"Total Sales\"),\n",
    "                         f.sum(\"Quantity Sold\").alias(\"Total Quantity Sold\"),\n",
    "                         f.avg(\"Price\").alias(\"Avarage Price\"),\n",
    "                         f.avg(\"Discount Percentage\").alias(\"Avarage Discount Rage\"),\n",
    "                         f.avg(\"Feedback Rating\").alias(\"Avarage Feedback Rating\"),\n",
    "                        ).orderBy(f.col(\"Total Sales\").desc())\n",
    "\n",
    "top_5_employees.show(5)"
   ]
  },
  {
   "cell_type": "markdown",
   "id": "dc32c8b4-db6f-4260-a181-533e63784845",
   "metadata": {},
   "source": [
    "### Q29. What is the correlation between customer age and the likelihood of purchasing high-value products?"
   ]
  },
  {
   "cell_type": "code",
   "execution_count": 36,
   "id": "9ecdac34-c814-4b45-9edb-66a296846cca",
   "metadata": {},
   "outputs": [
    {
     "name": "stdout",
     "output_type": "stream",
     "text": [
      "+---------+-----------------------+-------------------+------------------------+\n",
      "|Age Group|Average Purchase Amount|Total Above Average|Percentage Above Average|\n",
      "+---------+-----------------------+-------------------+------------------------+\n",
      "|    18-25|        2382.6800729927|                613|       40.67684140676842|\n",
      "|    26-35|      2335.254928533614|                765|      40.497617787188986|\n",
      "|    36-45|     2332.2464622897455|                744|       40.36896364622897|\n",
      "|    46-55|      2397.124820592824|                764|       39.72958918356734|\n",
      "|    56-65|      2341.437943974627|                757|       40.01057082452431|\n",
      "|      66+|      2291.897156448201|                376|       39.74630021141649|\n",
      "+---------+-----------------------+-------------------+------------------------+\n",
      "\n"
     ]
    }
   ],
   "source": [
    "# Define age groups using a case-when statement\n",
    "df = df.withColumn(\"Age Group\", f.when(f.col(\"Customer Age\").between(18, 25), \"18-25\")\n",
    "                                 .when(f.col(\"Customer Age\").between(26, 35), \"26-35\")\n",
    "                                 .when(f.col(\"Customer Age\").between(36, 45), \"36-45\")\n",
    "                                 .when(f.col(\"Customer Age\").between(46, 55), \"46-55\")\n",
    "                                 .when(f.col(\"Customer Age\").between(56, 65), \"56-65\")\n",
    "                                 .otherwise(\"66+\"))\n",
    "\n",
    "# Group by Age Group and calculate the average purchase amount\n",
    "avg_purchase_by_age_group = df.groupBy(\"Age Group\") \\\n",
    "                              .agg(f.avg(\"Total Sales\").alias(\"Average Purchase Amount\"))\n",
    "\n",
    "# Order the results by Age Group (optional)\n",
    "avg_purchase_by_age_group = avg_purchase_by_age_group.orderBy(\"Age Group\")\n",
    "\n",
    "# Calculate the average purchase amount by age group (already done)\n",
    "avg_purchase_by_age_group = df.groupBy(\"Age Group\") \\\n",
    "                              .agg(f.avg(\"Total Sales\").alias(\"Average Purchase Amount\"))\n",
    "\n",
    "# Join the original DataFrame with the average purchase by age group to get the \"Average Purchase Amount\" column\n",
    "df_with_avg = df.join(avg_purchase_by_age_group, on=\"Age Group\", how=\"inner\")\n",
    "\n",
    "# Filter out customers who bought above the average in their respective age groups\n",
    "df_above_avg = df_with_avg.filter(f.col(\"Total Sales\") > f.col(\"Average Purchase Amount\"))\n",
    "\n",
    "# Count the total number of customers in each age group who bought above the average\n",
    "count_above_avg = df_above_avg.groupBy(\"Age Group\") \\\n",
    "                              .agg(f.count(\"Customer ID\").alias(\"Total Above Average\"))\n",
    "\n",
    "# Calculate the total number of customers in each age group\n",
    "total_in_age_group = df.groupBy(\"Age Group\") \\\n",
    "                       .agg(f.count(\"Customer ID\").alias(\"Total Customers\"))\n",
    "\n",
    "# Calculate the percentage of customers in each age group who bought above the average\n",
    "percentage_above_avg = count_above_avg.join(total_in_age_group, on=\"Age Group\", how=\"inner\") \\\n",
    "                                      .withColumn(\"Percentage Above Average\", \n",
    "                                                  (f.col(\"Total Above Average\") / f.col(\"Total Customers\")) * 100)\n",
    "\n",
    "# Combine all the information into a final DataFrame\n",
    "final_df = avg_purchase_by_age_group.join(percentage_above_avg, on=\"Age Group\", how=\"inner\") \\\n",
    "                                    .select(\"Age Group\", \n",
    "                                            \"Average Purchase Amount\", \n",
    "                                            \"Total Above Average\", \n",
    "                                            \"Percentage Above Average\")\n",
    "\n",
    "# Step 8: Order the results by Age Group (optional)\n",
    "final_df = final_df.orderBy(\"Age Group\")\n",
    "\n",
    "# Step 9: Show the result\n",
    "final_df.show()"
   ]
  },
  {
   "cell_type": "markdown",
   "id": "149d2c32-6b4c-407d-b0e9-2b1589904998",
   "metadata": {},
   "source": [
    "### Q30. What is the average feedback rating for each product category, and how does it correlate with the average discount given?"
   ]
  },
  {
   "cell_type": "code",
   "execution_count": 37,
   "id": "fd89124b-55b6-4f1a-bb25-a454648d25ab",
   "metadata": {},
   "outputs": [
    {
     "name": "stdout",
     "output_type": "stream",
     "text": [
      "+-----------+-----------------------+-------------------+\n",
      "|   Category|Average Feedback Rating|   Average Discount|\n",
      "+-----------+-----------------------+-------------------+\n",
      "|  Groceries|      2.983143282102132|0.14816063460585016|\n",
      "|Electronics|     2.9493857493857494|0.15120393120393072|\n",
      "|   Clothing|     2.9721115537848606|0.15178286852589584|\n",
      "|  Furniture|      2.998481781376518|0.14925607287449394|\n",
      "|       Toys|      2.988798370672098|0.15084521384928679|\n",
      "+-----------+-----------------------+-------------------+\n",
      "\n",
      "The correlation between average feedback rating and average discount is: -0.5414582277778561\n"
     ]
    }
   ],
   "source": [
    "# Calculate average feedback rating and average discount by product category\n",
    "category_feedback_discount = df.groupBy(\"Category\") \\\n",
    "    .agg(f.avg(\"Feedback Rating\").alias(\"Average Feedback Rating\"),\n",
    "         f.avg(\"Discount\").alias(\"Average Discount\"))\n",
    "\n",
    "# Show the result\n",
    "category_feedback_discount.show()\n",
    "\n",
    "# Optionally, calculate correlation between Average Feedback Rating and Average Discount\n",
    "correlation = category_feedback_discount.stat.corr(\"Average Feedback Rating\", \"Average Discount\")\n",
    "print(f\"The correlation between average feedback rating and average discount is: {correlation}\")"
   ]
  }
 ],
 "metadata": {
  "kernelspec": {
   "display_name": "Python 3 (ipykernel)",
   "language": "python",
   "name": "python3"
  },
  "language_info": {
   "codemirror_mode": {
    "name": "ipython",
    "version": 3
   },
   "file_extension": ".py",
   "mimetype": "text/x-python",
   "name": "python",
   "nbconvert_exporter": "python",
   "pygments_lexer": "ipython3",
   "version": "3.11.8"
  }
 },
 "nbformat": 4,
 "nbformat_minor": 5
}
