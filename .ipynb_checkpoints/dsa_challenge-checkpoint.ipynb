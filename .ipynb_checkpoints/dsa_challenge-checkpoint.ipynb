{
 "cells": [
  {
   "cell_type": "markdown",
   "id": "dd120c34-0d9b-4a34-8128-8a331f15ad7f",
   "metadata": {},
   "source": [
    "# DSA Challenge - EDA"
   ]
  },
  {
   "cell_type": "markdown",
   "id": "6fd0727e-9a5e-4e66-a75d-f22364950d56",
   "metadata": {},
   "source": [
    "## Importing the Libraries"
   ]
  },
  {
   "cell_type": "code",
   "execution_count": 1,
   "id": "c76d27a6-b064-42e5-9517-15722e45c40c",
   "metadata": {},
   "outputs": [],
   "source": [
    "# Importing the libraries\n",
    "import pandas as pd\n",
    "import warnings\n",
    "\n",
    "# Ignore all warnings\n",
    "warnings.filterwarnings('ignore')"
   ]
  },
  {
   "cell_type": "markdown",
   "id": "86d51098-da61-485c-995d-4116db4fbcfc",
   "metadata": {},
   "source": [
    "## Data Cleaning"
   ]
  },
  {
   "cell_type": "code",
   "execution_count": 2,
   "id": "30f02455-99b0-441a-a154-527908ed0827",
   "metadata": {},
   "outputs": [
    {
     "data": {
      "text/html": [
       "<div>\n",
       "<style scoped>\n",
       "    .dataframe tbody tr th:only-of-type {\n",
       "        vertical-align: middle;\n",
       "    }\n",
       "\n",
       "    .dataframe tbody tr th {\n",
       "        vertical-align: top;\n",
       "    }\n",
       "\n",
       "    .dataframe thead th {\n",
       "        text-align: right;\n",
       "    }\n",
       "</style>\n",
       "<table border=\"1\" class=\"dataframe\">\n",
       "  <thead>\n",
       "    <tr style=\"text-align: right;\">\n",
       "      <th></th>\n",
       "      <th>Customer_ID</th>\n",
       "      <th>Age</th>\n",
       "      <th>Gender</th>\n",
       "      <th>Annual_Income</th>\n",
       "      <th>Country</th>\n",
       "      <th>Purchase_Date</th>\n",
       "      <th>Number_of_Purchases</th>\n",
       "      <th>Subscription</th>\n",
       "      <th>Favorite_Product_Category</th>\n",
       "      <th>Customer_Satisfaction_Score</th>\n",
       "    </tr>\n",
       "  </thead>\n",
       "  <tbody>\n",
       "    <tr>\n",
       "      <th>0</th>\n",
       "      <td>CUST_0001</td>\n",
       "      <td>56.0</td>\n",
       "      <td>Female</td>\n",
       "      <td>40771.321763</td>\n",
       "      <td>US</td>\n",
       "      <td>2021-03-20</td>\n",
       "      <td>93</td>\n",
       "      <td>False</td>\n",
       "      <td>Clothing</td>\n",
       "      <td>4.0</td>\n",
       "    </tr>\n",
       "    <tr>\n",
       "      <th>1</th>\n",
       "      <td>CUST_0002</td>\n",
       "      <td>69.0</td>\n",
       "      <td>F</td>\n",
       "      <td>55741.992007</td>\n",
       "      <td>Canada</td>\n",
       "      <td>2021-02-27</td>\n",
       "      <td>31</td>\n",
       "      <td>True</td>\n",
       "      <td>Automotive</td>\n",
       "      <td>5.0</td>\n",
       "    </tr>\n",
       "    <tr>\n",
       "      <th>2</th>\n",
       "      <td>CUST_0003</td>\n",
       "      <td>46.0</td>\n",
       "      <td>Female</td>\n",
       "      <td>57382.115509</td>\n",
       "      <td>France</td>\n",
       "      <td>2023-12-31</td>\n",
       "      <td>47</td>\n",
       "      <td>False</td>\n",
       "      <td>Home &amp; Garden</td>\n",
       "      <td>8.0</td>\n",
       "    </tr>\n",
       "    <tr>\n",
       "      <th>3</th>\n",
       "      <td>CUST_0004</td>\n",
       "      <td>32.0</td>\n",
       "      <td>M</td>\n",
       "      <td>27088.210612</td>\n",
       "      <td>United Kingdom</td>\n",
       "      <td>2021-08-14</td>\n",
       "      <td>55</td>\n",
       "      <td>False</td>\n",
       "      <td>Home &amp; Garden</td>\n",
       "      <td>1.0</td>\n",
       "    </tr>\n",
       "    <tr>\n",
       "      <th>4</th>\n",
       "      <td>CUST_0005</td>\n",
       "      <td>60.0</td>\n",
       "      <td>F</td>\n",
       "      <td>52707.387582</td>\n",
       "      <td>Germany</td>\n",
       "      <td>2021-10-12</td>\n",
       "      <td>80</td>\n",
       "      <td>True</td>\n",
       "      <td>Electonics</td>\n",
       "      <td>1.0</td>\n",
       "    </tr>\n",
       "    <tr>\n",
       "      <th>5</th>\n",
       "      <td>CUST_0006</td>\n",
       "      <td>25.0</td>\n",
       "      <td>F</td>\n",
       "      <td>66065.622862</td>\n",
       "      <td>USA</td>\n",
       "      <td>2021-01-04</td>\n",
       "      <td>62</td>\n",
       "      <td>False</td>\n",
       "      <td>Toys</td>\n",
       "      <td>4.0</td>\n",
       "    </tr>\n",
       "    <tr>\n",
       "      <th>6</th>\n",
       "      <td>CUST_0007</td>\n",
       "      <td>38.0</td>\n",
       "      <td>Female</td>\n",
       "      <td>61467.173530</td>\n",
       "      <td>France</td>\n",
       "      <td>2021-04-09</td>\n",
       "      <td>30</td>\n",
       "      <td>True</td>\n",
       "      <td>Clothing</td>\n",
       "      <td>3.0</td>\n",
       "    </tr>\n",
       "    <tr>\n",
       "      <th>7</th>\n",
       "      <td>CUST_0008</td>\n",
       "      <td>56.0</td>\n",
       "      <td>F</td>\n",
       "      <td>33332.542809</td>\n",
       "      <td>Canada</td>\n",
       "      <td>2021-02-08</td>\n",
       "      <td>55</td>\n",
       "      <td>True</td>\n",
       "      <td>Sports</td>\n",
       "      <td>10.0</td>\n",
       "    </tr>\n",
       "    <tr>\n",
       "      <th>8</th>\n",
       "      <td>CUST_0009</td>\n",
       "      <td>36.0</td>\n",
       "      <td>M</td>\n",
       "      <td>37060.773177</td>\n",
       "      <td>UK</td>\n",
       "      <td>2021-09-28</td>\n",
       "      <td>16</td>\n",
       "      <td>False</td>\n",
       "      <td>Books</td>\n",
       "      <td>2.0</td>\n",
       "    </tr>\n",
       "    <tr>\n",
       "      <th>9</th>\n",
       "      <td>CUST_0010</td>\n",
       "      <td>40.0</td>\n",
       "      <td>M</td>\n",
       "      <td>61858.909841</td>\n",
       "      <td>USA</td>\n",
       "      <td>2021-10-12</td>\n",
       "      <td>12</td>\n",
       "      <td>True</td>\n",
       "      <td>Home &amp; Garden</td>\n",
       "      <td>3.0</td>\n",
       "    </tr>\n",
       "    <tr>\n",
       "      <th>10</th>\n",
       "      <td>CUST_0011</td>\n",
       "      <td>28.0</td>\n",
       "      <td>Female</td>\n",
       "      <td>59492.786561</td>\n",
       "      <td>United States</td>\n",
       "      <td>2021-06-06</td>\n",
       "      <td>17</td>\n",
       "      <td>False</td>\n",
       "      <td>Home &amp; Garden</td>\n",
       "      <td>1.0</td>\n",
       "    </tr>\n",
       "    <tr>\n",
       "      <th>11</th>\n",
       "      <td>CUST_0012</td>\n",
       "      <td>28.0</td>\n",
       "      <td>Male</td>\n",
       "      <td>NaN</td>\n",
       "      <td>US</td>\n",
       "      <td>2021-03-16</td>\n",
       "      <td>16</td>\n",
       "      <td>True</td>\n",
       "      <td>Sports</td>\n",
       "      <td>1.0</td>\n",
       "    </tr>\n",
       "    <tr>\n",
       "      <th>12</th>\n",
       "      <td>CUST_0013</td>\n",
       "      <td>NaN</td>\n",
       "      <td>Male</td>\n",
       "      <td>13151.102813</td>\n",
       "      <td>USA</td>\n",
       "      <td>2021-10-15</td>\n",
       "      <td>12</td>\n",
       "      <td>True</td>\n",
       "      <td>Clothing</td>\n",
       "      <td>6.0</td>\n",
       "    </tr>\n",
       "    <tr>\n",
       "      <th>13</th>\n",
       "      <td>CUST_0014</td>\n",
       "      <td>53.0</td>\n",
       "      <td>M</td>\n",
       "      <td>48852.019080</td>\n",
       "      <td>GER</td>\n",
       "      <td>NaN</td>\n",
       "      <td>8</td>\n",
       "      <td>True</td>\n",
       "      <td>Toys</td>\n",
       "      <td>5.0</td>\n",
       "    </tr>\n",
       "    <tr>\n",
       "      <th>14</th>\n",
       "      <td>CUST_0015</td>\n",
       "      <td>57.0</td>\n",
       "      <td>M</td>\n",
       "      <td>41155.207150</td>\n",
       "      <td>Germany</td>\n",
       "      <td>2023-12-31</td>\n",
       "      <td>84</td>\n",
       "      <td>False</td>\n",
       "      <td>Home &amp; Garden</td>\n",
       "      <td>8.0</td>\n",
       "    </tr>\n",
       "    <tr>\n",
       "      <th>15</th>\n",
       "      <td>CUST_0016</td>\n",
       "      <td>NaN</td>\n",
       "      <td>F</td>\n",
       "      <td>45525.481653</td>\n",
       "      <td>United States</td>\n",
       "      <td>NaN</td>\n",
       "      <td>3</td>\n",
       "      <td>False</td>\n",
       "      <td>Clothing</td>\n",
       "      <td>2.0</td>\n",
       "    </tr>\n",
       "    <tr>\n",
       "      <th>16</th>\n",
       "      <td>CUST_0017</td>\n",
       "      <td>20.0</td>\n",
       "      <td>F</td>\n",
       "      <td>43830.641140</td>\n",
       "      <td>GER</td>\n",
       "      <td>2021-01-22</td>\n",
       "      <td>16</td>\n",
       "      <td>True</td>\n",
       "      <td>Sports</td>\n",
       "      <td>4.0</td>\n",
       "    </tr>\n",
       "    <tr>\n",
       "      <th>17</th>\n",
       "      <td>CUST_0018</td>\n",
       "      <td>39.0</td>\n",
       "      <td>M</td>\n",
       "      <td>64760.353168</td>\n",
       "      <td>UK</td>\n",
       "      <td>2021-01-27</td>\n",
       "      <td>30</td>\n",
       "      <td>True</td>\n",
       "      <td>Electronics</td>\n",
       "      <td>8.0</td>\n",
       "    </tr>\n",
       "    <tr>\n",
       "      <th>18</th>\n",
       "      <td>CUST_0019</td>\n",
       "      <td>19.0</td>\n",
       "      <td>Male</td>\n",
       "      <td>51553.521267</td>\n",
       "      <td>GER</td>\n",
       "      <td>2021-07-14</td>\n",
       "      <td>23</td>\n",
       "      <td>False</td>\n",
       "      <td>Toys</td>\n",
       "      <td>6.0</td>\n",
       "    </tr>\n",
       "    <tr>\n",
       "      <th>19</th>\n",
       "      <td>CUST_0020</td>\n",
       "      <td>41.0</td>\n",
       "      <td>M</td>\n",
       "      <td>54014.540212</td>\n",
       "      <td>United Kingdom</td>\n",
       "      <td>2021-12-03</td>\n",
       "      <td>92</td>\n",
       "      <td>False</td>\n",
       "      <td>Books</td>\n",
       "      <td>NaN</td>\n",
       "    </tr>\n",
       "    <tr>\n",
       "      <th>20</th>\n",
       "      <td>CUST_0021</td>\n",
       "      <td>61.0</td>\n",
       "      <td>F</td>\n",
       "      <td>29865.307602</td>\n",
       "      <td>GER</td>\n",
       "      <td>2021-08-24</td>\n",
       "      <td>5</td>\n",
       "      <td>True</td>\n",
       "      <td>Home &amp; Garden</td>\n",
       "      <td>4.0</td>\n",
       "    </tr>\n",
       "    <tr>\n",
       "      <th>21</th>\n",
       "      <td>CUST_0022</td>\n",
       "      <td>47.0</td>\n",
       "      <td>F</td>\n",
       "      <td>-461.432897</td>\n",
       "      <td>Canada</td>\n",
       "      <td>2021-04-02</td>\n",
       "      <td>84</td>\n",
       "      <td>True</td>\n",
       "      <td>Clothing</td>\n",
       "      <td>1.0</td>\n",
       "    </tr>\n",
       "    <tr>\n",
       "      <th>22</th>\n",
       "      <td>CUST_0023</td>\n",
       "      <td>55.0</td>\n",
       "      <td>F</td>\n",
       "      <td>66853.126725</td>\n",
       "      <td>France</td>\n",
       "      <td>NaN</td>\n",
       "      <td>65</td>\n",
       "      <td>False</td>\n",
       "      <td>Electronics</td>\n",
       "      <td>2.0</td>\n",
       "    </tr>\n",
       "    <tr>\n",
       "      <th>23</th>\n",
       "      <td>CUST_0024</td>\n",
       "      <td>19.0</td>\n",
       "      <td>Male</td>\n",
       "      <td>82148.077822</td>\n",
       "      <td>France</td>\n",
       "      <td>2021-10-30</td>\n",
       "      <td>30</td>\n",
       "      <td>False</td>\n",
       "      <td>Books</td>\n",
       "      <td>5.0</td>\n",
       "    </tr>\n",
       "    <tr>\n",
       "      <th>24</th>\n",
       "      <td>CUST_0025</td>\n",
       "      <td>38.0</td>\n",
       "      <td>Male</td>\n",
       "      <td>44861.166977</td>\n",
       "      <td>United States</td>\n",
       "      <td>2021-12-23</td>\n",
       "      <td>21</td>\n",
       "      <td>False</td>\n",
       "      <td>Automotive</td>\n",
       "      <td>8.0</td>\n",
       "    </tr>\n",
       "  </tbody>\n",
       "</table>\n",
       "</div>"
      ],
      "text/plain": [
       "   Customer_ID   Age  ... Favorite_Product_Category  Customer_Satisfaction_Score\n",
       "0    CUST_0001  56.0  ...                  Clothing                          4.0\n",
       "1    CUST_0002  69.0  ...                Automotive                          5.0\n",
       "2    CUST_0003  46.0  ...             Home & Garden                          8.0\n",
       "3    CUST_0004  32.0  ...             Home & Garden                          1.0\n",
       "4    CUST_0005  60.0  ...                Electonics                          1.0\n",
       "5    CUST_0006  25.0  ...                      Toys                          4.0\n",
       "6    CUST_0007  38.0  ...                  Clothing                          3.0\n",
       "7    CUST_0008  56.0  ...                    Sports                         10.0\n",
       "8    CUST_0009  36.0  ...                     Books                          2.0\n",
       "9    CUST_0010  40.0  ...             Home & Garden                          3.0\n",
       "10   CUST_0011  28.0  ...             Home & Garden                          1.0\n",
       "11   CUST_0012  28.0  ...                    Sports                          1.0\n",
       "12   CUST_0013   NaN  ...                  Clothing                          6.0\n",
       "13   CUST_0014  53.0  ...                      Toys                          5.0\n",
       "14   CUST_0015  57.0  ...             Home & Garden                          8.0\n",
       "15   CUST_0016   NaN  ...                  Clothing                          2.0\n",
       "16   CUST_0017  20.0  ...                    Sports                          4.0\n",
       "17   CUST_0018  39.0  ...               Electronics                          8.0\n",
       "18   CUST_0019  19.0  ...                      Toys                          6.0\n",
       "19   CUST_0020  41.0  ...                     Books                          NaN\n",
       "20   CUST_0021  61.0  ...             Home & Garden                          4.0\n",
       "21   CUST_0022  47.0  ...                  Clothing                          1.0\n",
       "22   CUST_0023  55.0  ...               Electronics                          2.0\n",
       "23   CUST_0024  19.0  ...                     Books                          5.0\n",
       "24   CUST_0025  38.0  ...                Automotive                          8.0\n",
       "\n",
       "[25 rows x 10 columns]"
      ]
     },
     "execution_count": 2,
     "metadata": {},
     "output_type": "execute_result"
    }
   ],
   "source": [
    "# Read the csv file as pandas dataframe\n",
    "customer_data = pd.read_csv(\"dados/synthetic_customer_data.csv\")\n",
    "# Display \n",
    "customer_data.head()"
   ]
  },
  {
   "cell_type": "code",
   "execution_count": 3,
   "id": "804cffdd-f143-4446-a9d6-20e2b2a52645",
   "metadata": {},
   "outputs": [
    {
     "name": "stdout",
     "output_type": "stream",
     "text": [
      "<class 'pandas.core.frame.DataFrame'>\n",
      "RangeIndex: 200 entries, 0 to 199\n",
      "Data columns (total 10 columns):\n",
      " #   Column                       Non-Null Count  Dtype  \n",
      "---  ------                       --------------  -----  \n",
      " 0   Customer_ID                  200 non-null    object \n",
      " 1   Age                          185 non-null    float64\n",
      " 2   Gender                       200 non-null    object \n",
      " 3   Annual_Income                190 non-null    float64\n",
      " 4   Country                      200 non-null    object \n",
      " 5   Purchase_Date                190 non-null    object \n",
      " 6   Number_of_Purchases          200 non-null    int64  \n",
      " 7   Subscription                 200 non-null    bool   \n",
      " 8   Favorite_Product_Category    200 non-null    object \n",
      " 9   Customer_Satisfaction_Score  185 non-null    float64\n",
      "dtypes: bool(1), float64(3), int64(1), object(5)\n",
      "memory usage: 14.4+ KB\n"
     ]
    }
   ],
   "source": [
    "# Info about the dataframe\n",
    "customer_data.info()"
   ]
  },
  {
   "cell_type": "code",
   "execution_count": 4,
   "id": "850c0182-51bb-4d5f-9e49-a99c37d21922",
   "metadata": {},
   "outputs": [
    {
     "data": {
      "text/html": [
       "<div>\n",
       "<style scoped>\n",
       "    .dataframe tbody tr th:only-of-type {\n",
       "        vertical-align: middle;\n",
       "    }\n",
       "\n",
       "    .dataframe tbody tr th {\n",
       "        vertical-align: top;\n",
       "    }\n",
       "\n",
       "    .dataframe thead th {\n",
       "        text-align: right;\n",
       "    }\n",
       "</style>\n",
       "<table border=\"1\" class=\"dataframe\">\n",
       "  <thead>\n",
       "    <tr style=\"text-align: right;\">\n",
       "      <th></th>\n",
       "      <th>Age</th>\n",
       "      <th>Annual_Income</th>\n",
       "      <th>Number_of_Purchases</th>\n",
       "      <th>Customer_Satisfaction_Score</th>\n",
       "    </tr>\n",
       "  </thead>\n",
       "  <tbody>\n",
       "    <tr>\n",
       "      <th>count</th>\n",
       "      <td>185.000000</td>\n",
       "      <td>190.000000</td>\n",
       "      <td>200.000000</td>\n",
       "      <td>185.000000</td>\n",
       "    </tr>\n",
       "    <tr>\n",
       "      <th>mean</th>\n",
       "      <td>42.913514</td>\n",
       "      <td>57422.901213</td>\n",
       "      <td>81.475000</td>\n",
       "      <td>5.032432</td>\n",
       "    </tr>\n",
       "    <tr>\n",
       "      <th>std</th>\n",
       "      <td>15.115968</td>\n",
       "      <td>62910.811179</td>\n",
       "      <td>218.458026</td>\n",
       "      <td>2.754251</td>\n",
       "    </tr>\n",
       "    <tr>\n",
       "      <th>min</th>\n",
       "      <td>18.000000</td>\n",
       "      <td>-461.432897</td>\n",
       "      <td>2.000000</td>\n",
       "      <td>1.000000</td>\n",
       "    </tr>\n",
       "    <tr>\n",
       "      <th>25%</th>\n",
       "      <td>30.000000</td>\n",
       "      <td>39589.535592</td>\n",
       "      <td>21.000000</td>\n",
       "      <td>3.000000</td>\n",
       "    </tr>\n",
       "    <tr>\n",
       "      <th>50%</th>\n",
       "      <td>43.000000</td>\n",
       "      <td>50660.399192</td>\n",
       "      <td>50.000000</td>\n",
       "      <td>5.000000</td>\n",
       "    </tr>\n",
       "    <tr>\n",
       "      <th>75%</th>\n",
       "      <td>56.000000</td>\n",
       "      <td>61456.274552</td>\n",
       "      <td>79.000000</td>\n",
       "      <td>7.000000</td>\n",
       "    </tr>\n",
       "    <tr>\n",
       "      <th>max</th>\n",
       "      <td>69.000000</td>\n",
       "      <td>660421.692806</td>\n",
       "      <td>1985.000000</td>\n",
       "      <td>10.000000</td>\n",
       "    </tr>\n",
       "  </tbody>\n",
       "</table>\n",
       "</div>"
      ],
      "text/plain": [
       "              Age  ...  Customer_Satisfaction_Score\n",
       "count  185.000000  ...                   185.000000\n",
       "mean    42.913514  ...                     5.032432\n",
       "std     15.115968  ...                     2.754251\n",
       "min     18.000000  ...                     1.000000\n",
       "25%     30.000000  ...                     3.000000\n",
       "50%     43.000000  ...                     5.000000\n",
       "75%     56.000000  ...                     7.000000\n",
       "max     69.000000  ...                    10.000000\n",
       "\n",
       "[8 rows x 4 columns]"
      ]
     },
     "execution_count": 4,
     "metadata": {},
     "output_type": "execute_result"
    }
   ],
   "source": [
    "# Statistics from the dataframe\n",
    "customer_data.describe()"
   ]
  },
  {
   "cell_type": "code",
   "execution_count": 5,
   "id": "1eac775e-b722-4819-b7f7-8e60ba90f437",
   "metadata": {},
   "outputs": [
    {
     "data": {
      "text/plain": [
       "Customer_ID                     0\n",
       "Age                            15\n",
       "Gender                          0\n",
       "Annual_Income                  10\n",
       "Country                         0\n",
       "Purchase_Date                  10\n",
       "Number_of_Purchases             0\n",
       "Subscription                    0\n",
       "Favorite_Product_Category       0\n",
       "Customer_Satisfaction_Score    15\n",
       "dtype: int64"
      ]
     },
     "execution_count": 5,
     "metadata": {},
     "output_type": "execute_result"
    }
   ],
   "source": [
    "# Checking for missing values\n",
    "customer_data.isnull().sum()"
   ]
  },
  {
   "cell_type": "code",
   "execution_count": 6,
   "id": "04ea6b61-d5f0-4e39-b47d-6249b31cc53d",
   "metadata": {},
   "outputs": [],
   "source": [
    "# Missing values in numerical columns\n",
    "# Numerical Columns\n",
    "numerical_columns = [\"Age\", \"Annual_Income\", \"Customer_Satisfaction_Score\"]\n",
    "# Loop for replace the NaN values\n",
    "for column in numerical_columns:\n",
    "    customer_data.fillna({column: customer_data[column].median()}, inplace=True)"
   ]
  },
  {
   "cell_type": "code",
   "execution_count": 7,
   "id": "32a4d81f-a254-49a3-a2b5-13e3a10a353b",
   "metadata": {},
   "outputs": [
    {
     "data": {
      "text/plain": [
       "Customer_ID                    0\n",
       "Age                            0\n",
       "Gender                         0\n",
       "Annual_Income                  0\n",
       "Country                        0\n",
       "Purchase_Date                  0\n",
       "Number_of_Purchases            0\n",
       "Subscription                   0\n",
       "Favorite_Product_Category      0\n",
       "Customer_Satisfaction_Score    0\n",
       "dtype: int64"
      ]
     },
     "execution_count": 7,
     "metadata": {},
     "output_type": "execute_result"
    }
   ],
   "source": [
    "# Missing values in Data\n",
    "customer_data[\"Purchase_Date\"] = customer_data[\"Purchase_Date\"].ffill()\n",
    "# Checking for missing values\n",
    "customer_data.isnull().sum()"
   ]
  },
  {
   "cell_type": "code",
   "execution_count": 8,
   "id": "4f960821-8b50-4c42-abdc-428d1a24e41f",
   "metadata": {},
   "outputs": [
    {
     "data": {
      "text/plain": [
       "array(['Female', 'F', 'M', 'Male'], dtype=object)"
      ]
     },
     "execution_count": 8,
     "metadata": {},
     "output_type": "execute_result"
    }
   ],
   "source": [
    "# Format data in the column Gender\n",
    "customer_data[\"Gender\"].unique()"
   ]
  },
  {
   "cell_type": "code",
   "execution_count": 9,
   "id": "34c63fb2-8afd-4ebc-a663-f994b9504a5e",
   "metadata": {},
   "outputs": [
    {
     "data": {
      "text/plain": [
       "array(['Female', 'Male'], dtype=object)"
      ]
     },
     "execution_count": 9,
     "metadata": {},
     "output_type": "execute_result"
    }
   ],
   "source": [
    "# Replacing the values\n",
    "customer_data['Gender'] = customer_data['Gender'].replace({'M': 'Male', 'F': 'Female'})\n",
    "# Checking if it worked\n",
    "customer_data[\"Gender\"].unique()"
   ]
  },
  {
   "cell_type": "code",
   "execution_count": 10,
   "id": "ae24945f-62ac-46f3-9dcb-4f173ef71035",
   "metadata": {},
   "outputs": [
    {
     "data": {
      "text/plain": [
       "array(['US', 'Canada', 'France', 'United Kingdom', 'Germany', 'USA', 'UK',\n",
       "       'United States', 'GER', 'CAN'], dtype=object)"
      ]
     },
     "execution_count": 10,
     "metadata": {},
     "output_type": "execute_result"
    }
   ],
   "source": [
    "# Format data in the column Country\n",
    "customer_data[\"Country\"].unique()"
   ]
  },
  {
   "cell_type": "code",
   "execution_count": 11,
   "id": "83f89350-f7a9-4014-831c-bf31e52ff521",
   "metadata": {},
   "outputs": [
    {
     "data": {
      "text/plain": [
       "array(['United States', 'Canada', 'France', 'United Kingdom', 'Germany',\n",
       "       'Canadá'], dtype=object)"
      ]
     },
     "execution_count": 11,
     "metadata": {},
     "output_type": "execute_result"
    }
   ],
   "source": [
    "# Replacing the values\n",
    "customer_data['Country'] = customer_data['Country'].replace({'US': 'United States', \n",
    "                                                             'USA': 'United States',\n",
    "                                                             'UK': 'United Kingdom',\n",
    "                                                             'GER': 'Germany',\n",
    "                                                             'CAN': \"Canadá\"\n",
    "                                                            })\n",
    "\n",
    "# Checking if it worked\n",
    "customer_data[\"Country\"].unique()"
   ]
  },
  {
   "cell_type": "code",
   "execution_count": 12,
   "id": "613b06cf-03f0-4dbb-9486-90f8210005b4",
   "metadata": {},
   "outputs": [
    {
     "data": {
      "text/plain": [
       "array(['Clothing', 'Automotive', 'Home & Garden', 'Electonics', 'Toys',\n",
       "       'Sports', 'Books', 'Electronics', 'Boks', 'Toyz', 'Automtoive',\n",
       "       'Clthng'], dtype=object)"
      ]
     },
     "execution_count": 12,
     "metadata": {},
     "output_type": "execute_result"
    }
   ],
   "source": [
    "# Cheking the column Favorite_Product_Category\n",
    "customer_data['Favorite_Product_Category'].unique()"
   ]
  },
  {
   "cell_type": "code",
   "execution_count": 13,
   "id": "5a46d466-a8bb-43df-8e60-a427f910a8db",
   "metadata": {},
   "outputs": [],
   "source": [
    "# Replace the wrong words\n",
    "customer_data['Favorite_Product_Category'] = customer_data['Favorite_Product_Category'].replace({\"Automtoive\": \"Automotive\", \n",
    "                                                                                                 \"Boks\": \"Books\", \n",
    "                                                                                                 \"Clthng\": \"Clothing\", \n",
    "                                                                                                 \"Electonics\": \"Electronics\",\n",
    "                                                                                                 \"Toyz\": \"Toys\"})"
   ]
  },
  {
   "cell_type": "code",
   "execution_count": 14,
   "id": "5d034f4f-a9df-41c3-bdc6-bfb07bb912dc",
   "metadata": {},
   "outputs": [
    {
     "data": {
      "text/plain": [
       "array(['Clothing', 'Automotive', 'Home & Garden', 'Electronics', 'Toys',\n",
       "       'Sports', 'Books'], dtype=object)"
      ]
     },
     "execution_count": 14,
     "metadata": {},
     "output_type": "execute_result"
    }
   ],
   "source": [
    "# Cheking the column Favorite_Product_Category\n",
    "customer_data['Favorite_Product_Category'].unique()"
   ]
  },
  {
   "cell_type": "code",
   "execution_count": 15,
   "id": "eba54985-8fd6-4348-8e0b-36d9091aad7f",
   "metadata": {},
   "outputs": [],
   "source": [
    "# Convert the column Purchase_Date to datetime format\n",
    "customer_data[\"Purchase_Date\"] = pd.to_datetime(customer_data[\"Purchase_Date\"], format=\"%Y-%m-%d\")"
   ]
  },
  {
   "cell_type": "code",
   "execution_count": 16,
   "id": "f3a4b437-32f6-4153-8c70-24def33aea0d",
   "metadata": {},
   "outputs": [],
   "source": [
    "# Convert to the propper type the numerical columns\n",
    "customer_data[\"Age\"] = customer_data[\"Age\"].astype(\"int\")\n",
    "customer_data[\"Annual_Income\"] = customer_data[\"Annual_Income\"].round(decimals = 2)"
   ]
  },
  {
   "cell_type": "code",
   "execution_count": 17,
   "id": "e27f4f4c-74df-4bb5-bcc1-5313a72c792c",
   "metadata": {},
   "outputs": [],
   "source": [
    "# Dummy for the Subscription column\n",
    "customer_data[\"Subscription_dummy\"] = customer_data[\"Subscription\"].astype(int)"
   ]
  },
  {
   "cell_type": "code",
   "execution_count": 18,
   "id": "2a292fe7-3395-4f61-bcba-edb7968ca006",
   "metadata": {},
   "outputs": [
    {
     "data": {
      "text/html": [
       "<div>\n",
       "<style scoped>\n",
       "    .dataframe tbody tr th:only-of-type {\n",
       "        vertical-align: middle;\n",
       "    }\n",
       "\n",
       "    .dataframe tbody tr th {\n",
       "        vertical-align: top;\n",
       "    }\n",
       "\n",
       "    .dataframe thead th {\n",
       "        text-align: right;\n",
       "    }\n",
       "</style>\n",
       "<table border=\"1\" class=\"dataframe\">\n",
       "  <thead>\n",
       "    <tr style=\"text-align: right;\">\n",
       "      <th></th>\n",
       "      <th>Customer_ID</th>\n",
       "      <th>Age</th>\n",
       "      <th>Gender</th>\n",
       "      <th>Annual_Income</th>\n",
       "      <th>Country</th>\n",
       "      <th>Purchase_Date</th>\n",
       "      <th>Number_of_Purchases</th>\n",
       "      <th>Subscription</th>\n",
       "      <th>Favorite_Product_Category</th>\n",
       "      <th>Customer_Satisfaction_Score</th>\n",
       "      <th>Subscription_dummy</th>\n",
       "    </tr>\n",
       "  </thead>\n",
       "  <tbody>\n",
       "    <tr>\n",
       "      <th>0</th>\n",
       "      <td>CUST_0001</td>\n",
       "      <td>56</td>\n",
       "      <td>Female</td>\n",
       "      <td>40771.32</td>\n",
       "      <td>United States</td>\n",
       "      <td>2021-03-20</td>\n",
       "      <td>93</td>\n",
       "      <td>False</td>\n",
       "      <td>Clothing</td>\n",
       "      <td>4.0</td>\n",
       "      <td>0</td>\n",
       "    </tr>\n",
       "    <tr>\n",
       "      <th>1</th>\n",
       "      <td>CUST_0002</td>\n",
       "      <td>69</td>\n",
       "      <td>Female</td>\n",
       "      <td>55741.99</td>\n",
       "      <td>Canada</td>\n",
       "      <td>2021-02-27</td>\n",
       "      <td>31</td>\n",
       "      <td>True</td>\n",
       "      <td>Automotive</td>\n",
       "      <td>5.0</td>\n",
       "      <td>1</td>\n",
       "    </tr>\n",
       "    <tr>\n",
       "      <th>2</th>\n",
       "      <td>CUST_0003</td>\n",
       "      <td>46</td>\n",
       "      <td>Female</td>\n",
       "      <td>57382.12</td>\n",
       "      <td>France</td>\n",
       "      <td>2023-12-31</td>\n",
       "      <td>47</td>\n",
       "      <td>False</td>\n",
       "      <td>Home &amp; Garden</td>\n",
       "      <td>8.0</td>\n",
       "      <td>0</td>\n",
       "    </tr>\n",
       "    <tr>\n",
       "      <th>3</th>\n",
       "      <td>CUST_0004</td>\n",
       "      <td>32</td>\n",
       "      <td>Male</td>\n",
       "      <td>27088.21</td>\n",
       "      <td>United Kingdom</td>\n",
       "      <td>2021-08-14</td>\n",
       "      <td>55</td>\n",
       "      <td>False</td>\n",
       "      <td>Home &amp; Garden</td>\n",
       "      <td>1.0</td>\n",
       "      <td>0</td>\n",
       "    </tr>\n",
       "    <tr>\n",
       "      <th>4</th>\n",
       "      <td>CUST_0005</td>\n",
       "      <td>60</td>\n",
       "      <td>Female</td>\n",
       "      <td>52707.39</td>\n",
       "      <td>Germany</td>\n",
       "      <td>2021-10-12</td>\n",
       "      <td>80</td>\n",
       "      <td>True</td>\n",
       "      <td>Electronics</td>\n",
       "      <td>1.0</td>\n",
       "      <td>1</td>\n",
       "    </tr>\n",
       "    <tr>\n",
       "      <th>5</th>\n",
       "      <td>CUST_0006</td>\n",
       "      <td>25</td>\n",
       "      <td>Female</td>\n",
       "      <td>66065.62</td>\n",
       "      <td>United States</td>\n",
       "      <td>2021-01-04</td>\n",
       "      <td>62</td>\n",
       "      <td>False</td>\n",
       "      <td>Toys</td>\n",
       "      <td>4.0</td>\n",
       "      <td>0</td>\n",
       "    </tr>\n",
       "    <tr>\n",
       "      <th>6</th>\n",
       "      <td>CUST_0007</td>\n",
       "      <td>38</td>\n",
       "      <td>Female</td>\n",
       "      <td>61467.17</td>\n",
       "      <td>France</td>\n",
       "      <td>2021-04-09</td>\n",
       "      <td>30</td>\n",
       "      <td>True</td>\n",
       "      <td>Clothing</td>\n",
       "      <td>3.0</td>\n",
       "      <td>1</td>\n",
       "    </tr>\n",
       "    <tr>\n",
       "      <th>7</th>\n",
       "      <td>CUST_0008</td>\n",
       "      <td>56</td>\n",
       "      <td>Female</td>\n",
       "      <td>33332.54</td>\n",
       "      <td>Canada</td>\n",
       "      <td>2021-02-08</td>\n",
       "      <td>55</td>\n",
       "      <td>True</td>\n",
       "      <td>Sports</td>\n",
       "      <td>10.0</td>\n",
       "      <td>1</td>\n",
       "    </tr>\n",
       "    <tr>\n",
       "      <th>8</th>\n",
       "      <td>CUST_0009</td>\n",
       "      <td>36</td>\n",
       "      <td>Male</td>\n",
       "      <td>37060.77</td>\n",
       "      <td>United Kingdom</td>\n",
       "      <td>2021-09-28</td>\n",
       "      <td>16</td>\n",
       "      <td>False</td>\n",
       "      <td>Books</td>\n",
       "      <td>2.0</td>\n",
       "      <td>0</td>\n",
       "    </tr>\n",
       "    <tr>\n",
       "      <th>9</th>\n",
       "      <td>CUST_0010</td>\n",
       "      <td>40</td>\n",
       "      <td>Male</td>\n",
       "      <td>61858.91</td>\n",
       "      <td>United States</td>\n",
       "      <td>2021-10-12</td>\n",
       "      <td>12</td>\n",
       "      <td>True</td>\n",
       "      <td>Home &amp; Garden</td>\n",
       "      <td>3.0</td>\n",
       "      <td>1</td>\n",
       "    </tr>\n",
       "  </tbody>\n",
       "</table>\n",
       "</div>"
      ],
      "text/plain": [
       "  Customer_ID  Age  ... Customer_Satisfaction_Score  Subscription_dummy\n",
       "0   CUST_0001   56  ...                         4.0                   0\n",
       "1   CUST_0002   69  ...                         5.0                   1\n",
       "2   CUST_0003   46  ...                         8.0                   0\n",
       "3   CUST_0004   32  ...                         1.0                   0\n",
       "4   CUST_0005   60  ...                         1.0                   1\n",
       "5   CUST_0006   25  ...                         4.0                   0\n",
       "6   CUST_0007   38  ...                         3.0                   1\n",
       "7   CUST_0008   56  ...                        10.0                   1\n",
       "8   CUST_0009   36  ...                         2.0                   0\n",
       "9   CUST_0010   40  ...                         3.0                   1\n",
       "\n",
       "[10 rows x 11 columns]"
      ]
     },
     "execution_count": 18,
     "metadata": {},
     "output_type": "execute_result"
    }
   ],
   "source": [
    "# View the results\n",
    "customer_data.head(10)"
   ]
  },
  {
   "cell_type": "markdown",
   "id": "0806b485-2a06-42ae-81d5-b65222f8e8b9",
   "metadata": {},
   "source": [
    "## EDA"
   ]
  },
  {
   "cell_type": "markdown",
   "id": "63bcf970-9260-4f1b-a17e-f05739faa190",
   "metadata": {},
   "source": [
    "### Unique counts"
   ]
  },
  {
   "cell_type": "code",
   "execution_count": 19,
   "id": "2a6ae55e-e318-4d30-a98d-7b3abc96a3a9",
   "metadata": {},
   "outputs": [
    {
     "data": {
      "text/html": [
       "<div>\n",
       "<style scoped>\n",
       "    .dataframe tbody tr th:only-of-type {\n",
       "        vertical-align: middle;\n",
       "    }\n",
       "\n",
       "    .dataframe tbody tr th {\n",
       "        vertical-align: top;\n",
       "    }\n",
       "\n",
       "    .dataframe thead th {\n",
       "        text-align: right;\n",
       "    }\n",
       "</style>\n",
       "<table border=\"1\" class=\"dataframe\">\n",
       "  <thead>\n",
       "    <tr style=\"text-align: right;\">\n",
       "      <th></th>\n",
       "      <th>Gender</th>\n",
       "      <th>Counts</th>\n",
       "    </tr>\n",
       "  </thead>\n",
       "  <tbody>\n",
       "    <tr>\n",
       "      <th>0</th>\n",
       "      <td>Female</td>\n",
       "      <td>114</td>\n",
       "    </tr>\n",
       "    <tr>\n",
       "      <th>1</th>\n",
       "      <td>Male</td>\n",
       "      <td>86</td>\n",
       "    </tr>\n",
       "  </tbody>\n",
       "</table>\n",
       "</div>"
      ],
      "text/plain": [
       "   Gender  Counts\n",
       "0  Female     114\n",
       "1    Male      86"
      ]
     },
     "execution_count": 19,
     "metadata": {},
     "output_type": "execute_result"
    }
   ],
   "source": [
    "# Counting the values\n",
    "gender_counts = customer_data[\"Gender\"].value_counts()\n",
    "\n",
    "# Reset the index to turn the 'Gender' index into a column\n",
    "gender_counts_df = gender_counts.reset_index()\n",
    "\n",
    "# Rename the columns if necessary\n",
    "gender_counts_df.columns = ['Gender', 'Counts']\n",
    "gender_counts_df"
   ]
  },
  {
   "cell_type": "code",
   "execution_count": 20,
   "id": "fc36eada-b3c0-469b-a91e-d18f11597651",
   "metadata": {},
   "outputs": [
    {
     "data": {
      "text/html": [
       "<div>\n",
       "<style scoped>\n",
       "    .dataframe tbody tr th:only-of-type {\n",
       "        vertical-align: middle;\n",
       "    }\n",
       "\n",
       "    .dataframe tbody tr th {\n",
       "        vertical-align: top;\n",
       "    }\n",
       "\n",
       "    .dataframe thead th {\n",
       "        text-align: right;\n",
       "    }\n",
       "</style>\n",
       "<table border=\"1\" class=\"dataframe\">\n",
       "  <thead>\n",
       "    <tr style=\"text-align: right;\">\n",
       "      <th></th>\n",
       "      <th>Favorite_Product_Category</th>\n",
       "      <th>Counts</th>\n",
       "    </tr>\n",
       "  </thead>\n",
       "  <tbody>\n",
       "    <tr>\n",
       "      <th>0</th>\n",
       "      <td>Books</td>\n",
       "      <td>35</td>\n",
       "    </tr>\n",
       "    <tr>\n",
       "      <th>1</th>\n",
       "      <td>Home &amp; Garden</td>\n",
       "      <td>34</td>\n",
       "    </tr>\n",
       "    <tr>\n",
       "      <th>2</th>\n",
       "      <td>Sports</td>\n",
       "      <td>33</td>\n",
       "    </tr>\n",
       "    <tr>\n",
       "      <th>3</th>\n",
       "      <td>Electronics</td>\n",
       "      <td>31</td>\n",
       "    </tr>\n",
       "    <tr>\n",
       "      <th>4</th>\n",
       "      <td>Automotive</td>\n",
       "      <td>26</td>\n",
       "    </tr>\n",
       "    <tr>\n",
       "      <th>5</th>\n",
       "      <td>Toys</td>\n",
       "      <td>23</td>\n",
       "    </tr>\n",
       "    <tr>\n",
       "      <th>6</th>\n",
       "      <td>Clothing</td>\n",
       "      <td>18</td>\n",
       "    </tr>\n",
       "  </tbody>\n",
       "</table>\n",
       "</div>"
      ],
      "text/plain": [
       "  Favorite_Product_Category  Counts\n",
       "0                     Books      35\n",
       "1             Home & Garden      34\n",
       "2                    Sports      33\n",
       "3               Electronics      31\n",
       "4                Automotive      26\n",
       "5                      Toys      23\n",
       "6                  Clothing      18"
      ]
     },
     "execution_count": 20,
     "metadata": {},
     "output_type": "execute_result"
    }
   ],
   "source": [
    "# Counting the values\n",
    "product_cateogry_counts = customer_data[\"Favorite_Product_Category\"].value_counts()\n",
    "\n",
    "# Reset the index to turn the 'Gender' index into a column\n",
    "product_cateogry_counts_df = product_cateogry_counts.reset_index()\n",
    "\n",
    "# Rename the columns if necessary\n",
    "product_cateogry_counts_df.columns = ['Favorite_Product_Category', 'Counts']\n",
    "product_cateogry_counts_df"
   ]
  },
  {
   "cell_type": "code",
   "execution_count": 21,
   "id": "2d2021ff-c906-4fb3-8b65-9b6a705ec46c",
   "metadata": {},
   "outputs": [
    {
     "data": {
      "text/html": [
       "<div>\n",
       "<style scoped>\n",
       "    .dataframe tbody tr th:only-of-type {\n",
       "        vertical-align: middle;\n",
       "    }\n",
       "\n",
       "    .dataframe tbody tr th {\n",
       "        vertical-align: top;\n",
       "    }\n",
       "\n",
       "    .dataframe thead th {\n",
       "        text-align: right;\n",
       "    }\n",
       "</style>\n",
       "<table border=\"1\" class=\"dataframe\">\n",
       "  <thead>\n",
       "    <tr style=\"text-align: right;\">\n",
       "      <th></th>\n",
       "      <th>Country</th>\n",
       "      <th>Counts</th>\n",
       "    </tr>\n",
       "  </thead>\n",
       "  <tbody>\n",
       "    <tr>\n",
       "      <th>0</th>\n",
       "      <td>United States</td>\n",
       "      <td>63</td>\n",
       "    </tr>\n",
       "    <tr>\n",
       "      <th>1</th>\n",
       "      <td>United Kingdom</td>\n",
       "      <td>42</td>\n",
       "    </tr>\n",
       "    <tr>\n",
       "      <th>2</th>\n",
       "      <td>Germany</td>\n",
       "      <td>38</td>\n",
       "    </tr>\n",
       "    <tr>\n",
       "      <th>3</th>\n",
       "      <td>France</td>\n",
       "      <td>25</td>\n",
       "    </tr>\n",
       "    <tr>\n",
       "      <th>4</th>\n",
       "      <td>Canadá</td>\n",
       "      <td>20</td>\n",
       "    </tr>\n",
       "    <tr>\n",
       "      <th>5</th>\n",
       "      <td>Canada</td>\n",
       "      <td>12</td>\n",
       "    </tr>\n",
       "  </tbody>\n",
       "</table>\n",
       "</div>"
      ],
      "text/plain": [
       "          Country  Counts\n",
       "0   United States      63\n",
       "1  United Kingdom      42\n",
       "2         Germany      38\n",
       "3          France      25\n",
       "4          Canadá      20\n",
       "5          Canada      12"
      ]
     },
     "execution_count": 21,
     "metadata": {},
     "output_type": "execute_result"
    }
   ],
   "source": [
    "# Counting the values\n",
    "country_counts = customer_data[\"Country\"].value_counts()\n",
    "\n",
    "# Reset the index to turn the 'Gender' index into a column\n",
    "country_counts_df = country_counts.reset_index()\n",
    "\n",
    "# Rename the columns if necessary\n",
    "country_counts_df.columns = ['Country', 'Counts']\n",
    "country_counts_df"
   ]
  },
  {
   "cell_type": "code",
   "execution_count": 22,
   "id": "29d88316-9691-4cf9-8582-ab878532ba05",
   "metadata": {},
   "outputs": [
    {
     "data": {
      "text/html": [
       "<div>\n",
       "<style scoped>\n",
       "    .dataframe tbody tr th:only-of-type {\n",
       "        vertical-align: middle;\n",
       "    }\n",
       "\n",
       "    .dataframe tbody tr th {\n",
       "        vertical-align: top;\n",
       "    }\n",
       "\n",
       "    .dataframe thead th {\n",
       "        text-align: right;\n",
       "    }\n",
       "</style>\n",
       "<table border=\"1\" class=\"dataframe\">\n",
       "  <thead>\n",
       "    <tr style=\"text-align: right;\">\n",
       "      <th></th>\n",
       "      <th>Subscription</th>\n",
       "      <th>Counts</th>\n",
       "    </tr>\n",
       "  </thead>\n",
       "  <tbody>\n",
       "    <tr>\n",
       "      <th>0</th>\n",
       "      <td>Subscribed</td>\n",
       "      <td>107</td>\n",
       "    </tr>\n",
       "    <tr>\n",
       "      <th>1</th>\n",
       "      <td>Not Subscribed</td>\n",
       "      <td>93</td>\n",
       "    </tr>\n",
       "  </tbody>\n",
       "</table>\n",
       "</div>"
      ],
      "text/plain": [
       "     Subscription  Counts\n",
       "0      Subscribed     107\n",
       "1  Not Subscribed      93"
      ]
     },
     "execution_count": 22,
     "metadata": {},
     "output_type": "execute_result"
    }
   ],
   "source": [
    "# Convert boolean to string labels and then count\n",
    "subscription_counts = customer_data[\"Subscription\"].map({True: 'Subscribed', False: 'Not Subscribed'}).value_counts()\n",
    "\n",
    "# Reset the index to turn the 'Gender' index into a column\n",
    "subscription_counts_df = subscription_counts.reset_index()\n",
    "\n",
    "# Rename the columns if necessary\n",
    "subscription_counts_df.columns = ['Subscription', 'Counts']\n",
    "subscription_counts_df"
   ]
  },
  {
   "cell_type": "markdown",
   "id": "9237ecb0-209a-4832-8a52-3ed859b34239",
   "metadata": {},
   "source": [
    "### Grouped Tables"
   ]
  },
  {
   "cell_type": "code",
   "execution_count": 23,
   "id": "674797f4-088c-4497-b8c4-0cf59e12f5bd",
   "metadata": {},
   "outputs": [
    {
     "data": {
      "text/html": [
       "<div>\n",
       "<style scoped>\n",
       "    .dataframe tbody tr th:only-of-type {\n",
       "        vertical-align: middle;\n",
       "    }\n",
       "\n",
       "    .dataframe tbody tr th {\n",
       "        vertical-align: top;\n",
       "    }\n",
       "\n",
       "    .dataframe thead th {\n",
       "        text-align: right;\n",
       "    }\n",
       "</style>\n",
       "<table border=\"1\" class=\"dataframe\">\n",
       "  <thead>\n",
       "    <tr style=\"text-align: right;\">\n",
       "      <th></th>\n",
       "      <th>Favorite_Product_Category</th>\n",
       "      <th>Number_of_Purchases</th>\n",
       "    </tr>\n",
       "  </thead>\n",
       "  <tbody>\n",
       "    <tr>\n",
       "      <th>0</th>\n",
       "      <td>Automotive</td>\n",
       "      <td>2614</td>\n",
       "    </tr>\n",
       "    <tr>\n",
       "      <th>1</th>\n",
       "      <td>Books</td>\n",
       "      <td>4816</td>\n",
       "    </tr>\n",
       "    <tr>\n",
       "      <th>2</th>\n",
       "      <td>Clothing</td>\n",
       "      <td>953</td>\n",
       "    </tr>\n",
       "    <tr>\n",
       "      <th>3</th>\n",
       "      <td>Electronics</td>\n",
       "      <td>1486</td>\n",
       "    </tr>\n",
       "    <tr>\n",
       "      <th>4</th>\n",
       "      <td>Home &amp; Garden</td>\n",
       "      <td>2487</td>\n",
       "    </tr>\n",
       "    <tr>\n",
       "      <th>5</th>\n",
       "      <td>Sports</td>\n",
       "      <td>1787</td>\n",
       "    </tr>\n",
       "    <tr>\n",
       "      <th>6</th>\n",
       "      <td>Toys</td>\n",
       "      <td>2152</td>\n",
       "    </tr>\n",
       "  </tbody>\n",
       "</table>\n",
       "</div>"
      ],
      "text/plain": [
       "  Favorite_Product_Category  Number_of_Purchases\n",
       "0                Automotive                 2614\n",
       "1                     Books                 4816\n",
       "2                  Clothing                  953\n",
       "3               Electronics                 1486\n",
       "4             Home & Garden                 2487\n",
       "5                    Sports                 1787\n",
       "6                      Toys                 2152"
      ]
     },
     "execution_count": 23,
     "metadata": {},
     "output_type": "execute_result"
    }
   ],
   "source": [
    "# Purchases by category\n",
    "product_category_purchases = customer_data.groupby(\"Favorite_Product_Category\")[\"Number_of_Purchases\"].sum()\n",
    "\n",
    "# Reset the index to turn the 'Gender' index into a column\n",
    "product_category_purchases_df = product_category_purchases.reset_index()\n",
    "\n",
    "# Rename the columns if necessary\n",
    "product_category_purchases_df.columns = ['Favorite_Product_Category', 'Number_of_Purchases']\n",
    "product_category_purchases_df"
   ]
  },
  {
   "cell_type": "code",
   "execution_count": 24,
   "id": "1bcfe92f-dda3-4206-9510-8c997e7ad88e",
   "metadata": {},
   "outputs": [
    {
     "data": {
      "text/html": [
       "<div>\n",
       "<style scoped>\n",
       "    .dataframe tbody tr th:only-of-type {\n",
       "        vertical-align: middle;\n",
       "    }\n",
       "\n",
       "    .dataframe tbody tr th {\n",
       "        vertical-align: top;\n",
       "    }\n",
       "\n",
       "    .dataframe thead th {\n",
       "        text-align: right;\n",
       "    }\n",
       "</style>\n",
       "<table border=\"1\" class=\"dataframe\">\n",
       "  <thead>\n",
       "    <tr style=\"text-align: right;\">\n",
       "      <th></th>\n",
       "      <th>Favorite_Product_Category</th>\n",
       "      <th>Number_of_Purchases</th>\n",
       "    </tr>\n",
       "  </thead>\n",
       "  <tbody>\n",
       "    <tr>\n",
       "      <th>0</th>\n",
       "      <td>Books</td>\n",
       "      <td>4816</td>\n",
       "    </tr>\n",
       "  </tbody>\n",
       "</table>\n",
       "</div>"
      ],
      "text/plain": [
       "  Favorite_Product_Category  Number_of_Purchases\n",
       "0                     Books                 4816"
      ]
     },
     "execution_count": 24,
     "metadata": {},
     "output_type": "execute_result"
    }
   ],
   "source": [
    "# Find the category with the maximum number of purchases\n",
    "max_purchases = product_category_purchases_df[\"Number_of_Purchases\"].max()\n",
    "max_category = product_category_purchases_df[\"Favorite_Product_Category\"][product_category_purchases_df[\"Number_of_Purchases\"] == max_purchases].loc[1]\n",
    "\n",
    "# Combine them into a DataFrame\n",
    "product_category_purchases_max_df = pd.DataFrame({\n",
    "    'Favorite_Product_Category': [max_category],\n",
    "    'Number_of_Purchases': [max_purchases]\n",
    "})\n",
    "\n",
    "product_category_purchases_max_df"
   ]
  },
  {
   "cell_type": "code",
   "execution_count": 25,
   "id": "7ae4deab-908b-4cc1-b383-7397737f5a59",
   "metadata": {},
   "outputs": [
    {
     "data": {
      "text/html": [
       "<div>\n",
       "<style scoped>\n",
       "    .dataframe tbody tr th:only-of-type {\n",
       "        vertical-align: middle;\n",
       "    }\n",
       "\n",
       "    .dataframe tbody tr th {\n",
       "        vertical-align: top;\n",
       "    }\n",
       "\n",
       "    .dataframe thead th {\n",
       "        text-align: right;\n",
       "    }\n",
       "</style>\n",
       "<table border=\"1\" class=\"dataframe\">\n",
       "  <thead>\n",
       "    <tr style=\"text-align: right;\">\n",
       "      <th>Gender</th>\n",
       "      <th>Favorite_Product_Category</th>\n",
       "      <th>Female</th>\n",
       "      <th>Male</th>\n",
       "    </tr>\n",
       "  </thead>\n",
       "  <tbody>\n",
       "    <tr>\n",
       "      <th>0</th>\n",
       "      <td>Automotive</td>\n",
       "      <td>2181.0</td>\n",
       "      <td>433.0</td>\n",
       "    </tr>\n",
       "    <tr>\n",
       "      <th>1</th>\n",
       "      <td>Books</td>\n",
       "      <td>4048.0</td>\n",
       "      <td>768.0</td>\n",
       "    </tr>\n",
       "    <tr>\n",
       "      <th>2</th>\n",
       "      <td>Clothing</td>\n",
       "      <td>548.0</td>\n",
       "      <td>405.0</td>\n",
       "    </tr>\n",
       "    <tr>\n",
       "      <th>3</th>\n",
       "      <td>Electronics</td>\n",
       "      <td>1019.0</td>\n",
       "      <td>467.0</td>\n",
       "    </tr>\n",
       "    <tr>\n",
       "      <th>4</th>\n",
       "      <td>Home &amp; Garden</td>\n",
       "      <td>768.0</td>\n",
       "      <td>1719.0</td>\n",
       "    </tr>\n",
       "    <tr>\n",
       "      <th>5</th>\n",
       "      <td>Sports</td>\n",
       "      <td>1140.0</td>\n",
       "      <td>647.0</td>\n",
       "    </tr>\n",
       "    <tr>\n",
       "      <th>6</th>\n",
       "      <td>Toys</td>\n",
       "      <td>1620.0</td>\n",
       "      <td>532.0</td>\n",
       "    </tr>\n",
       "  </tbody>\n",
       "</table>\n",
       "</div>"
      ],
      "text/plain": [
       "Gender Favorite_Product_Category  Female    Male\n",
       "0                     Automotive  2181.0   433.0\n",
       "1                          Books  4048.0   768.0\n",
       "2                       Clothing   548.0   405.0\n",
       "3                    Electronics  1019.0   467.0\n",
       "4                  Home & Garden   768.0  1719.0\n",
       "5                         Sports  1140.0   647.0\n",
       "6                           Toys  1620.0   532.0"
      ]
     },
     "execution_count": 25,
     "metadata": {},
     "output_type": "execute_result"
    }
   ],
   "source": [
    "# Group by 'Gender' and 'Favorite_Product_Category' and sum 'Number_of_Purchases'\n",
    "product_category_gender = customer_data.groupby(['Gender', 'Favorite_Product_Category'])['Number_of_Purchases'].sum().reset_index()\n",
    "\n",
    "# Use pivot_table to create separate columns for each gender\n",
    "product_category_gender_pivot = product_category_gender.pivot_table(\n",
    "    index='Favorite_Product_Category',\n",
    "    columns='Gender',\n",
    "    values='Number_of_Purchases',\n",
    "    fill_value=0  # Fill missing values with 0 if any\n",
    ")\n",
    "\n",
    "# Reset the index to turn 'Favorite_Product_Category' back into a column\n",
    "product_category_gender_pivot = product_category_gender_pivot.reset_index()\n",
    "\n",
    "# Display the result\n",
    "product_category_gender_pivot"
   ]
  },
  {
   "cell_type": "code",
   "execution_count": 26,
   "id": "49bfc21e-a0a7-475b-adc7-bf0c402c585f",
   "metadata": {},
   "outputs": [
    {
     "data": {
      "text/html": [
       "<div>\n",
       "<style scoped>\n",
       "    .dataframe tbody tr th:only-of-type {\n",
       "        vertical-align: middle;\n",
       "    }\n",
       "\n",
       "    .dataframe tbody tr th {\n",
       "        vertical-align: top;\n",
       "    }\n",
       "\n",
       "    .dataframe thead th {\n",
       "        text-align: right;\n",
       "    }\n",
       "</style>\n",
       "<table border=\"1\" class=\"dataframe\">\n",
       "  <thead>\n",
       "    <tr style=\"text-align: right;\">\n",
       "      <th></th>\n",
       "      <th>Gender</th>\n",
       "      <th>Salary</th>\n",
       "    </tr>\n",
       "  </thead>\n",
       "  <tbody>\n",
       "    <tr>\n",
       "      <th>0</th>\n",
       "      <td>Female</td>\n",
       "      <td>7206442.81</td>\n",
       "    </tr>\n",
       "    <tr>\n",
       "      <th>1</th>\n",
       "      <td>Male</td>\n",
       "      <td>4210512.40</td>\n",
       "    </tr>\n",
       "  </tbody>\n",
       "</table>\n",
       "</div>"
      ],
      "text/plain": [
       "   Gender      Salary\n",
       "0  Female  7206442.81\n",
       "1    Male  4210512.40"
      ]
     },
     "execution_count": 26,
     "metadata": {},
     "output_type": "execute_result"
    }
   ],
   "source": [
    "# Salary by gender\n",
    "annual_salary_gender = customer_data.groupby(\"Gender\")[\"Annual_Income\"].sum()\n",
    "\n",
    "# Reset the index to turn the 'Gender' index into a column\n",
    "annual_salary_gender_df = annual_salary_gender.reset_index()\n",
    "\n",
    "# Rename the columns if necessary\n",
    "annual_salary_gender_df.columns = ['Gender', 'Salary']\n",
    "annual_salary_gender_df"
   ]
  },
  {
   "cell_type": "code",
   "execution_count": 27,
   "id": "ae4f63b9-3627-4ea7-8fc8-7335a28f862d",
   "metadata": {},
   "outputs": [
    {
     "data": {
      "text/html": [
       "<div>\n",
       "<style scoped>\n",
       "    .dataframe tbody tr th:only-of-type {\n",
       "        vertical-align: middle;\n",
       "    }\n",
       "\n",
       "    .dataframe tbody tr th {\n",
       "        vertical-align: top;\n",
       "    }\n",
       "\n",
       "    .dataframe thead th {\n",
       "        text-align: right;\n",
       "    }\n",
       "</style>\n",
       "<table border=\"1\" class=\"dataframe\">\n",
       "  <thead>\n",
       "    <tr style=\"text-align: right;\">\n",
       "      <th></th>\n",
       "      <th>Gender</th>\n",
       "      <th>Mean_Salary</th>\n",
       "    </tr>\n",
       "  </thead>\n",
       "  <tbody>\n",
       "    <tr>\n",
       "      <th>0</th>\n",
       "      <td>Female</td>\n",
       "      <td>63214.41</td>\n",
       "    </tr>\n",
       "    <tr>\n",
       "      <th>1</th>\n",
       "      <td>Male</td>\n",
       "      <td>48959.45</td>\n",
       "    </tr>\n",
       "  </tbody>\n",
       "</table>\n",
       "</div>"
      ],
      "text/plain": [
       "   Gender  Mean_Salary\n",
       "0  Female     63214.41\n",
       "1    Male     48959.45"
      ]
     },
     "execution_count": 27,
     "metadata": {},
     "output_type": "execute_result"
    }
   ],
   "source": [
    "# Get the mean value\n",
    "mean_annual_salary_gender = round(annual_salary_gender / gender_counts, 2)\n",
    "\n",
    "# Reset the index to turn the 'Gender' index into a column\n",
    "mean_annual_salary_gender_df = mean_annual_salary_gender.reset_index()\n",
    "\n",
    "# Rename the columns if necessary\n",
    "mean_annual_salary_gender_df.columns = ['Gender', 'Mean_Salary']\n",
    "mean_annual_salary_gender_df"
   ]
  },
  {
   "cell_type": "code",
   "execution_count": 28,
   "id": "750392da-c027-4034-a887-209f65a35497",
   "metadata": {},
   "outputs": [
    {
     "data": {
      "text/html": [
       "<div>\n",
       "<style scoped>\n",
       "    .dataframe tbody tr th:only-of-type {\n",
       "        vertical-align: middle;\n",
       "    }\n",
       "\n",
       "    .dataframe tbody tr th {\n",
       "        vertical-align: top;\n",
       "    }\n",
       "\n",
       "    .dataframe thead th {\n",
       "        text-align: right;\n",
       "    }\n",
       "</style>\n",
       "<table border=\"1\" class=\"dataframe\">\n",
       "  <thead>\n",
       "    <tr style=\"text-align: right;\">\n",
       "      <th></th>\n",
       "      <th>Gender</th>\n",
       "      <th>Mean_Age</th>\n",
       "    </tr>\n",
       "  </thead>\n",
       "  <tbody>\n",
       "    <tr>\n",
       "      <th>0</th>\n",
       "      <td>Female</td>\n",
       "      <td>44.04</td>\n",
       "    </tr>\n",
       "    <tr>\n",
       "      <th>1</th>\n",
       "      <td>Male</td>\n",
       "      <td>41.43</td>\n",
       "    </tr>\n",
       "  </tbody>\n",
       "</table>\n",
       "</div>"
      ],
      "text/plain": [
       "   Gender  Mean_Age\n",
       "0  Female     44.04\n",
       "1    Male     41.43"
      ]
     },
     "execution_count": 28,
     "metadata": {},
     "output_type": "execute_result"
    }
   ],
   "source": [
    "# Gender and Age\n",
    "age_gender = customer_data.groupby(\"Gender\")[\"Age\"].mean().round(decimals = 2)\n",
    "age_gender\n",
    "\n",
    "# Reset the index to turn the 'Gender' index into a column\n",
    "age_gender_df = age_gender.reset_index()\n",
    "\n",
    "# Rename the columns if necessary\n",
    "age_gender_df.columns = ['Gender', 'Mean_Age']\n",
    "\n",
    "age_gender_df"
   ]
  },
  {
   "cell_type": "code",
   "execution_count": 29,
   "id": "016dea6d-9a45-4b22-a349-8d2806f1c3d2",
   "metadata": {},
   "outputs": [
    {
     "data": {
      "text/html": [
       "<div>\n",
       "<style scoped>\n",
       "    .dataframe tbody tr th:only-of-type {\n",
       "        vertical-align: middle;\n",
       "    }\n",
       "\n",
       "    .dataframe tbody tr th {\n",
       "        vertical-align: top;\n",
       "    }\n",
       "\n",
       "    .dataframe thead th {\n",
       "        text-align: right;\n",
       "    }\n",
       "</style>\n",
       "<table border=\"1\" class=\"dataframe\">\n",
       "  <thead>\n",
       "    <tr style=\"text-align: right;\">\n",
       "      <th>Subscription</th>\n",
       "      <th>False</th>\n",
       "      <th>True</th>\n",
       "    </tr>\n",
       "    <tr>\n",
       "      <th>Gender</th>\n",
       "      <th></th>\n",
       "      <th></th>\n",
       "    </tr>\n",
       "  </thead>\n",
       "  <tbody>\n",
       "    <tr>\n",
       "      <th>Female</th>\n",
       "      <td>51</td>\n",
       "      <td>63</td>\n",
       "    </tr>\n",
       "    <tr>\n",
       "      <th>Male</th>\n",
       "      <td>42</td>\n",
       "      <td>44</td>\n",
       "    </tr>\n",
       "  </tbody>\n",
       "</table>\n",
       "</div>"
      ],
      "text/plain": [
       "Subscription  False  True \n",
       "Gender                    \n",
       "Female           51     63\n",
       "Male             42     44"
      ]
     },
     "execution_count": 29,
     "metadata": {},
     "output_type": "execute_result"
    }
   ],
   "source": [
    "# Gender and Subscription\n",
    "subscription_gender = customer_data.groupby(\"Gender\")[\"Subscription\"].value_counts()\n",
    "\n",
    "# Unstack to create a DataFrame\n",
    "subscription_gender_df = subscription_gender.unstack()\n",
    "subscription_gender_df"
   ]
  },
  {
   "cell_type": "markdown",
   "id": "288f60dd-8143-47b3-b059-00408b1d4a64",
   "metadata": {},
   "source": [
    "## Data Viz"
   ]
  },
  {
   "cell_type": "markdown",
   "id": "14df4c74-5589-482f-be1e-e48bc389ca72",
   "metadata": {},
   "source": [
    "## Queries Questions"
   ]
  },
  {
   "cell_type": "code",
   "execution_count": 30,
   "id": "e0d70458-f899-4c2f-a2ae-873366ab941a",
   "metadata": {},
   "outputs": [
    {
     "data": {
      "text/plain": [
       "Country\n",
       "Canada            12\n",
       "Canadá            20\n",
       "France            25\n",
       "Germany           38\n",
       "United Kingdom    42\n",
       "United States     63\n",
       "Name: Customer_ID, dtype: int64"
      ]
     },
     "execution_count": 30,
     "metadata": {},
     "output_type": "execute_result"
    }
   ],
   "source": [
    "# How many customers are there in each country?\n",
    "# Groupby and counting the unique values\n",
    "customers_by_country = customer_data.groupby(\"Country\")[\"Customer_ID\"].nunique()\n",
    "customers_by_country"
   ]
  },
  {
   "cell_type": "code",
   "execution_count": 31,
   "id": "6e293323-9a57-4a27-8214-486d5ee00fa1",
   "metadata": {},
   "outputs": [
    {
     "data": {
      "text/plain": [
       "52708.97"
      ]
     },
     "execution_count": 31,
     "metadata": {},
     "output_type": "execute_result"
    }
   ],
   "source": [
    "# What is the average annual income of customers who have a subscription?\n",
    "# Filter the data for customers who have a subscription\n",
    "subscribed_customers = customer_data[customer_data[\"Subscription\"] == True]\n",
    "\n",
    "# Calculate the average annual income of those customers\n",
    "average_annual_income = subscribed_customers[\"Annual_Income\"].mean()\n",
    "\n",
    "# Display the result\n",
    "round(average_annual_income, 2)"
   ]
  },
  {
   "cell_type": "code",
   "execution_count": 32,
   "id": "3aafd1f1-1c06-4f3a-a03a-633a623c5c20",
   "metadata": {},
   "outputs": [
    {
     "data": {
      "text/plain": [
       "Favorite_Product_Category\n",
       "Automotive       26\n",
       "Books            35\n",
       "Clothing         18\n",
       "Electronics      31\n",
       "Home & Garden    34\n",
       "Sports           33\n",
       "Toys             23\n",
       "Name: Customer_ID, dtype: int64"
      ]
     },
     "execution_count": 32,
     "metadata": {},
     "output_type": "execute_result"
    }
   ],
   "source": [
    "# How many customers are in each favorite product category?\n",
    "# Groupby and counting the unique values\n",
    "customers_by_category = customer_data.groupby(\"Favorite_Product_Category\")[\"Customer_ID\"].nunique()\n",
    "customers_by_category"
   ]
  },
  {
   "cell_type": "code",
   "execution_count": 33,
   "id": "5676bd60-bb29-47e8-8ae1-9fbf0ec6fa0f",
   "metadata": {},
   "outputs": [
    {
     "data": {
      "text/plain": [
       "('France', 5.56)"
      ]
     },
     "execution_count": 33,
     "metadata": {},
     "output_type": "execute_result"
    }
   ],
   "source": [
    "# Which country has the highest average customer satisfaction score?\n",
    "# Group by 'Country' and calculate the average customer satisfaction score\n",
    "average_satisfaction_by_country = customer_data.groupby(\"Country\")[\"Customer_Satisfaction_Score\"].mean()\n",
    "\n",
    "# Identify the country with the highest average satisfaction score\n",
    "highest_satisfaction_country = average_satisfaction_by_country.idxmax()\n",
    "highest_satisfaction_score = average_satisfaction_by_country.max()\n",
    "\n",
    "highest_satisfaction_country, highest_satisfaction_score"
   ]
  },
  {
   "cell_type": "code",
   "execution_count": 34,
   "id": "307bd031-26a3-44b1-92bb-e03b258b21b4",
   "metadata": {},
   "outputs": [
    {
     "data": {
      "text/plain": [
       "14068"
      ]
     },
     "execution_count": 34,
     "metadata": {},
     "output_type": "execute_result"
    }
   ],
   "source": [
    "# How many customers have made more than 50 purchases?\n",
    "customers_50 = customer_data[customer_data[\"Number_of_Purchases\"] > 50]\n",
    "# Calculate the total number of purchases\n",
    "total_purchases_50 = customers_50[\"Number_of_Purchases\"].sum()\n",
    "total_purchases_50"
   ]
  },
  {
   "cell_type": "code",
   "execution_count": 35,
   "id": "22143274-c1ea-4ff8-b13a-386b690994f6",
   "metadata": {},
   "outputs": [
    {
     "data": {
      "text/plain": [
       "5157"
      ]
     },
     "execution_count": 35,
     "metadata": {},
     "output_type": "execute_result"
    }
   ],
   "source": [
    "# What is the total number of purchases made by customers from the United States?\n",
    "customers_usa = customer_data[customer_data[\"Country\"] == \"United States\"]\n",
    "# Calculate the total number of purchases\n",
    "total_purchases_usa = customers_usa[\"Number_of_Purchases\"].sum()\n",
    "total_purchases_usa"
   ]
  },
  {
   "cell_type": "code",
   "execution_count": 36,
   "id": "15aa5204-8c8f-46d5-bc54-a4077a586be0",
   "metadata": {},
   "outputs": [
    {
     "data": {
      "text/plain": [
       "43    CUST_0044\n",
       "Name: Customer_ID, dtype: object"
      ]
     },
     "execution_count": 36,
     "metadata": {},
     "output_type": "execute_result"
    }
   ],
   "source": [
    "# Which customer has the highest annual income, and what is that income?\n",
    "highest_value = customer_data[\"Annual_Income\"].max()\n",
    "highest_customer = customer_data[customer_data[\"Annual_Income\"] == highest_value]\n",
    "highest_customer[\"Customer_ID\"]"
   ]
  },
  {
   "cell_type": "code",
   "execution_count": 37,
   "id": "e0aa33d7-4192-47e7-b182-daaa266c4d92",
   "metadata": {},
   "outputs": [
    {
     "data": {
      "text/plain": [
       "3658"
      ]
     },
     "execution_count": 37,
     "metadata": {},
     "output_type": "execute_result"
    }
   ],
   "source": [
    "# How many customers are aged 30 or younger?\n",
    "customers_age_30 = customer_data[customer_data[\"Age\"] <= 30]\n",
    "# Calculate the total number of purchases\n",
    "total_purchases_30 = customers_age_30[\"Number_of_Purchases\"].sum()\n",
    "total_purchases_30"
   ]
  },
  {
   "cell_type": "code",
   "execution_count": 38,
   "id": "1036d3db-62a1-4ed6-a796-0066d153be12",
   "metadata": {},
   "outputs": [
    {
     "data": {
      "text/plain": [
       "Gender\n",
       "Female    99.333333\n",
       "Male      57.802326\n",
       "Name: Number_of_Purchases, dtype: float64"
      ]
     },
     "execution_count": 38,
     "metadata": {},
     "output_type": "execute_result"
    }
   ],
   "source": [
    "# What is the average number of purchases for each gender?\n",
    "avarage_gender_purchase = customer_data.groupby(\"Gender\")[\"Number_of_Purchases\"].mean()\n",
    "avarage_gender_purchase"
   ]
  },
  {
   "cell_type": "code",
   "execution_count": 39,
   "id": "1e519707-5e03-4fc1-b777-c6a3b1dd7fe9",
   "metadata": {},
   "outputs": [
    {
     "data": {
      "text/plain": [
       "('Clothing', 74829.54166666667)"
      ]
     },
     "execution_count": 39,
     "metadata": {},
     "output_type": "execute_result"
    }
   ],
   "source": [
    "# Which product category has the highest average annual income among customers who favor it?\n",
    "highest_product_category_avarage_annual = customer_data.groupby(\"Favorite_Product_Category\")[\"Annual_Income\"].mean()\n",
    "highest_product_category_avarage_annual\n",
    "\n",
    "# Identify the country with the highest average satisfaction score\n",
    "highest_category = highest_product_category_avarage_annual.idxmax()\n",
    "highest_value = highest_product_category_avarage_annual.max()\n",
    "\n",
    "highest_category, highest_value"
   ]
  },
  {
   "cell_type": "code",
   "execution_count": 40,
   "id": "8a5ad0ec-6269-444d-acce-1b5860b76d6b",
   "metadata": {},
   "outputs": [
    {
     "data": {
      "text/plain": [
       "25"
      ]
     },
     "execution_count": 40,
     "metadata": {},
     "output_type": "execute_result"
    }
   ],
   "source": [
    "# How many customers have a satisfaction score above 7 and a subscription?\n",
    "customers_satisfaction_and_subscription = customer_data[\n",
    "    (customer_data[\"Customer_Satisfaction_Score\"] > 7) & \n",
    "    (customer_data[\"Subscription\"] == True)\n",
    "]\n",
    "\n",
    "# Count the number of such customers\n",
    "num_customers = customers_satisfaction_and_subscription.shape[0]\n",
    "num_customers"
   ]
  },
  {
   "cell_type": "code",
   "execution_count": 41,
   "id": "57b81364-ed9e-480b-b90f-9b94b7d603b7",
   "metadata": {},
   "outputs": [
    {
     "data": {
      "text/plain": [
       "('30-50', 86)"
      ]
     },
     "execution_count": 41,
     "metadata": {},
     "output_type": "execute_result"
    }
   ],
   "source": [
    "# Which age group (under 30, 30-50, over 50) has the most customers?\n",
    "customer_data['Age_Group'] = pd.cut(\n",
    "    customer_data['Age'], \n",
    "    bins=[0, 30, 50, float('inf')], \n",
    "    labels=['Under 30', '30-50', 'Over 50']\n",
    ")\n",
    "\n",
    "# Count the number of customers in each age group\n",
    "age_group_counts = customer_data['Age_Group'].value_counts()\n",
    "\n",
    "# Identify the age group with the most customers\n",
    "most_customers_age_group = age_group_counts.idxmax()\n",
    "most_customers_count = age_group_counts.max()\n",
    "\n",
    "most_customers_age_group, most_customers_count"
   ]
  },
  {
   "cell_type": "code",
   "execution_count": 42,
   "id": "c1dfae8a-ffc9-4991-af8e-d15b2653b9de",
   "metadata": {},
   "outputs": [
    {
     "data": {
      "text/plain": [
       "Country\n",
       "Canada             49.833333\n",
       "Canadá             48.600000\n",
       "France             44.160000\n",
       "Germany           125.210526\n",
       "United Kingdom     88.238095\n",
       "United States      81.857143\n",
       "Name: Number_of_Purchases, dtype: float64"
      ]
     },
     "execution_count": 42,
     "metadata": {},
     "output_type": "execute_result"
    }
   ],
   "source": [
    "# What is the average number of purchases made by customers from each country?\n",
    "avarage_purchases_country = customer_data.groupby(\"Country\")[\"Number_of_Purchases\"].mean()\n",
    "avarage_purchases_country"
   ]
  },
  {
   "cell_type": "code",
   "execution_count": 43,
   "id": "d730f3fc-42d4-40b0-82e8-7703fe569568",
   "metadata": {},
   "outputs": [
    {
     "data": {
      "text/plain": [
       "10"
      ]
     },
     "execution_count": 43,
     "metadata": {},
     "output_type": "execute_result"
    }
   ],
   "source": [
    "# Read the CSV file as a pandas DataFrame\n",
    "customer_data_original = pd.read_csv(\"dados/synthetic_customer_data.csv\")\n",
    "\n",
    "# Find customers with missing data in the 'Annual_Income' column\n",
    "missing_values_customers = customer_data_original[customer_data_original[\"Annual_Income\"].isna()]\n",
    "\n",
    "# Get the number of customers with missing data\n",
    "number_of_missing_values = missing_values_customers.shape[0]\n",
    "\n",
    "number_of_missing_values"
   ]
  },
  {
   "cell_type": "code",
   "execution_count": 44,
   "id": "d3ee35b8-fb98-4ca9-8a2c-14c3dd5f47fa",
   "metadata": {},
   "outputs": [
    {
     "name": "stdout",
     "output_type": "stream",
     "text": [
      "43.93 %\n"
     ]
    }
   ],
   "source": [
    "# What percentage of customers with a subscription have a customer satisfaction score below 5?\n",
    "customer_sub = customer_data[customer_data[\"Subscription\"] == True]\n",
    "customer_sub_satisf_5 = customer_sub[customer_sub[\"Customer_Satisfaction_Score\"] < 5]\n",
    "\n",
    "percentual = round((customer_sub_satisf_5.shape[0]/customer_sub.shape[0])*100, 2)\n",
    "print(percentual, \"%\")"
   ]
  },
  {
   "cell_type": "code",
   "execution_count": 45,
   "id": "d6e76681-1297-4367-a092-70c3a2446f32",
   "metadata": {},
   "outputs": [
    {
     "data": {
      "text/plain": [
       "Country\n",
       "United States     11\n",
       "United Kingdom     5\n",
       "France             4\n",
       "Canadá             2\n",
       "Germany            2\n",
       "Canada             1\n",
       "Name: Customer_ID, dtype: int64"
      ]
     },
     "execution_count": 45,
     "metadata": {},
     "output_type": "execute_result"
    }
   ],
   "source": [
    "# Which country has the most customers with a satisfaction score of 9 or higher?\n",
    "customers_satisf_9 = customer_data[customer_data[\"Customer_Satisfaction_Score\"] >= 9]\n",
    "\n",
    "# Group by country and count the number of customers in each country\n",
    "customers_countries_9 = customers_satisf_9.groupby(\"Country\")[\"Customer_ID\"].count()\n",
    "\n",
    "# Sort the result to find the country with the most customers with a satisfaction score of 9 or higher\n",
    "customers_countries_9 = customers_countries_9.sort_values(ascending=False)\n",
    "\n",
    "customers_countries_9"
   ]
  },
  {
   "cell_type": "code",
   "execution_count": 46,
   "id": "317be083-7a90-4267-8eef-ed0237224dad",
   "metadata": {},
   "outputs": [
    {
     "data": {
      "text/html": [
       "<div>\n",
       "<style scoped>\n",
       "    .dataframe tbody tr th:only-of-type {\n",
       "        vertical-align: middle;\n",
       "    }\n",
       "\n",
       "    .dataframe tbody tr th {\n",
       "        vertical-align: top;\n",
       "    }\n",
       "\n",
       "    .dataframe thead th {\n",
       "        text-align: right;\n",
       "    }\n",
       "</style>\n",
       "<table border=\"1\" class=\"dataframe\">\n",
       "  <thead>\n",
       "    <tr style=\"text-align: right;\">\n",
       "      <th></th>\n",
       "      <th>Favorite_Product_Category</th>\n",
       "      <th>Customer_Satisfaction_Score</th>\n",
       "      <th>Count</th>\n",
       "    </tr>\n",
       "  </thead>\n",
       "  <tbody>\n",
       "    <tr>\n",
       "      <th>0</th>\n",
       "      <td>Automotive</td>\n",
       "      <td>1.0</td>\n",
       "      <td>2</td>\n",
       "    </tr>\n",
       "    <tr>\n",
       "      <th>1</th>\n",
       "      <td>Automotive</td>\n",
       "      <td>2.0</td>\n",
       "      <td>4</td>\n",
       "    </tr>\n",
       "    <tr>\n",
       "      <th>2</th>\n",
       "      <td>Automotive</td>\n",
       "      <td>3.0</td>\n",
       "      <td>2</td>\n",
       "    </tr>\n",
       "    <tr>\n",
       "      <th>3</th>\n",
       "      <td>Automotive</td>\n",
       "      <td>4.0</td>\n",
       "      <td>1</td>\n",
       "    </tr>\n",
       "    <tr>\n",
       "      <th>4</th>\n",
       "      <td>Automotive</td>\n",
       "      <td>5.0</td>\n",
       "      <td>7</td>\n",
       "    </tr>\n",
       "    <tr>\n",
       "      <th>...</th>\n",
       "      <td>...</td>\n",
       "      <td>...</td>\n",
       "      <td>...</td>\n",
       "    </tr>\n",
       "    <tr>\n",
       "      <th>57</th>\n",
       "      <td>Toys</td>\n",
       "      <td>5.0</td>\n",
       "      <td>6</td>\n",
       "    </tr>\n",
       "    <tr>\n",
       "      <th>58</th>\n",
       "      <td>Toys</td>\n",
       "      <td>6.0</td>\n",
       "      <td>3</td>\n",
       "    </tr>\n",
       "    <tr>\n",
       "      <th>59</th>\n",
       "      <td>Toys</td>\n",
       "      <td>7.0</td>\n",
       "      <td>1</td>\n",
       "    </tr>\n",
       "    <tr>\n",
       "      <th>60</th>\n",
       "      <td>Toys</td>\n",
       "      <td>8.0</td>\n",
       "      <td>4</td>\n",
       "    </tr>\n",
       "    <tr>\n",
       "      <th>61</th>\n",
       "      <td>Toys</td>\n",
       "      <td>9.0</td>\n",
       "      <td>2</td>\n",
       "    </tr>\n",
       "  </tbody>\n",
       "</table>\n",
       "<p>62 rows × 3 columns</p>\n",
       "</div>"
      ],
      "text/plain": [
       "   Favorite_Product_Category  Customer_Satisfaction_Score  Count\n",
       "0                 Automotive                          1.0      2\n",
       "1                 Automotive                          2.0      4\n",
       "2                 Automotive                          3.0      2\n",
       "3                 Automotive                          4.0      1\n",
       "4                 Automotive                          5.0      7\n",
       "..                       ...                          ...    ...\n",
       "57                      Toys                          5.0      6\n",
       "58                      Toys                          6.0      3\n",
       "59                      Toys                          7.0      1\n",
       "60                      Toys                          8.0      4\n",
       "61                      Toys                          9.0      2\n",
       "\n",
       "[62 rows x 3 columns]"
      ]
     },
     "execution_count": 46,
     "metadata": {},
     "output_type": "execute_result"
    }
   ],
   "source": [
    "# What is the distribution of customer satisfaction scores for each product category?\n",
    "# Group by product category and customer satisfaction score, then count the occurrences\n",
    "customers_satisf_scores = customer_data.groupby([\"Favorite_Product_Category\", \"Customer_Satisfaction_Score\"]).size()\n",
    "\n",
    "# Optionally, reset the index to have a flat DataFrame\n",
    "customers_satisf_scores = customers_satisf_scores.reset_index(name='Count')\n",
    "\n",
    "# View the results\n",
    "customers_satisf_scores"
   ]
  },
  {
   "cell_type": "code",
   "execution_count": 47,
   "id": "81640831-92bd-4b96-bfca-45106d9fd280",
   "metadata": {},
   "outputs": [
    {
     "name": "stdout",
     "output_type": "stream",
     "text": [
      "Total customers who made a purchase after January 1, 2022: 10\n",
      "Customers with a subscription who made a purchase after January 1, 2022: 5\n"
     ]
    }
   ],
   "source": [
    "# How many customers have made a purchase after January 1, 2022, and how many of them have a subscription?\n",
    "# Filter customers who made a purchase after January 1, 2022\n",
    "customers_after_2022 = customer_data[customer_data['Purchase_Date'] > '2022-01-01']\n",
    "\n",
    "# Count the total number of customers\n",
    "total_customers_after_2022 = customers_after_2022.shape[0]\n",
    "\n",
    "# Count how many of these customers have a subscription\n",
    "subscribed_customers_after_2022 = customers_after_2022[customers_after_2022['Subscription'] == True].shape[0]\n",
    "\n",
    "# Print the results\n",
    "print(f\"Total customers who made a purchase after January 1, 2022: {total_customers_after_2022}\")\n",
    "print(f\"Customers with a subscription who made a purchase after January 1, 2022: {subscribed_customers_after_2022}\")"
   ]
  },
  {
   "cell_type": "code",
   "execution_count": 48,
   "id": "b79a649e-076b-4023-b86b-f24b65dd95fa",
   "metadata": {},
   "outputs": [
    {
     "name": "stdout",
     "output_type": "stream",
     "text": [
      "Age_Group\n",
      "30-50       4.920455\n",
      "Over 50     5.014925\n",
      "Under 30    5.266667\n",
      "Name: Customer_Satisfaction_Score, dtype: float64\n"
     ]
    }
   ],
   "source": [
    "# What is the average customer satisfaction score for each age group (under 30, 30-50, over 50)? \n",
    "# Define the age groups\n",
    "def categorize_age(age):\n",
    "    if age < 30:\n",
    "        return 'Under 30'\n",
    "    elif 30 <= age <= 50:\n",
    "        return '30-50'\n",
    "    else:\n",
    "        return 'Over 50'\n",
    "\n",
    "# Apply the function to create a new column 'Age_Group'\n",
    "customer_data['Age_Group'] = customer_data['Age'].apply(categorize_age)\n",
    "\n",
    "# Group by the 'Age_Group' and calculate the average customer satisfaction score\n",
    "average_satisfaction_by_age_group = customer_data.groupby('Age_Group')['Customer_Satisfaction_Score'].mean()\n",
    "\n",
    "# Print the result\n",
    "print(average_satisfaction_by_age_group)"
   ]
  },
  {
   "cell_type": "markdown",
   "id": "0a9569af-d1e3-49fc-9b6f-466a13bfc8c4",
   "metadata": {},
   "source": [
    "## Data Viz"
   ]
  },
  {
   "cell_type": "code",
   "execution_count": 49,
   "id": "3b467732-afec-459e-aa03-8420c21a78e0",
   "metadata": {},
   "outputs": [],
   "source": [
    "import matplotlib.pyplot as plt\n",
    "import seaborn as sns\n",
    "\n",
    "# Set the style for the plots\n",
    "sns.set(style=\"whitegrid\")"
   ]
  },
  {
   "cell_type": "code",
   "execution_count": 50,
   "id": "2d8094d5-454c-4062-9613-70d4329994b2",
   "metadata": {},
   "outputs": [
    {
     "data": {
      "image/png": "[encoded data removed]",
      "text/plain": [
       "<Figure size 720x432 with 1 Axes>"
      ]
     },
     "metadata": {},
     "output_type": "display_data"
    }
   ],
   "source": [
    "# Plotting the requested bar charts\n",
    "\n",
    "# Bar chart for Age\n",
    "plt.figure(figsize=(10, 6))\n",
    "sns.histplot(customer_data['Age'], bins=20, kde=False, color='skyblue')\n",
    "plt.title('Age Distribution')\n",
    "plt.xlabel('Age')\n",
    "plt.ylabel('Count')\n",
    "plt.show()"
   ]
  },
  {
   "cell_type": "code",
   "execution_count": 51,
   "id": "45f3b627-98f8-4f23-8c21-8ee130e98324",
   "metadata": {},
   "outputs": [
    {
     "data": {
      "image/png": "[encoded data removed]",
      "text/plain": [
       "<Figure size 720x432 with 1 Axes>"
      ]
     },
     "metadata": {},
     "output_type": "display_data"
    }
   ],
   "source": [
    "# Bar chart for Gender count\n",
    "plt.figure(figsize=(10, 6))\n",
    "gender_count = customer_data['Gender'].value_counts()\n",
    "sns.barplot(x=gender_count.index, y=gender_count.values, palette='pastel')\n",
    "plt.title('Gender Count')\n",
    "plt.xlabel('Gender')\n",
    "plt.ylabel('Count')\n",
    "plt.show()"
   ]
  },
  {
   "cell_type": "code",
   "execution_count": 52,
   "id": "71aa6ca9-47fa-4cef-9509-edc63bb0c09d",
   "metadata": {},
   "outputs": [
    {
     "data": {
      "image/png": "[encoded data removed]",
      "text/plain": [
       "<Figure size 720x432 with 1 Axes>"
      ]
     },
     "metadata": {},
     "output_type": "display_data"
    }
   ],
   "source": [
    "# Bar chart for Annual Income\n",
    "plt.figure(figsize=(10, 6))\n",
    "sns.histplot(customer_data['Annual_Income'], bins=20, kde=False, color='lightgreen')\n",
    "plt.title('Annual Income Distribution')\n",
    "plt.xlabel('Annual Income')\n",
    "plt.ylabel('Count')\n",
    "plt.show()"
   ]
  },
  {
   "cell_type": "code",
   "execution_count": 53,
   "id": "25c9ddde-b1d6-4894-8235-710245cadc67",
   "metadata": {},
   "outputs": [
    {
     "data": {
      "image/png": "[encoded data removed]",
      "text/plain": [
       "<Figure size 720x432 with 1 Axes>"
      ]
     },
     "metadata": {},
     "output_type": "display_data"
    }
   ],
   "source": [
    "# Bar chart for Country count\n",
    "plt.figure(figsize=(10, 6))\n",
    "country_count = customer_data['Country'].value_counts()\n",
    "sns.barplot(x=country_count.index, y=country_count.values, palette='viridis')\n",
    "plt.title('Country Count')\n",
    "plt.xlabel('Country')\n",
    "plt.ylabel('Count')\n",
    "plt.xticks(rotation=45)\n",
    "plt.show()"
   ]
  },
  {
   "cell_type": "code",
   "execution_count": 54,
   "id": "76a2a1a9-b927-4479-93f3-4a9840c7750e",
   "metadata": {},
   "outputs": [
    {
     "data": {
      "image/png": "[encoded data removed]",
      "text/plain": [
       "<Figure size 720x432 with 1 Axes>"
      ]
     },
     "metadata": {},
     "output_type": "display_data"
    }
   ],
   "source": [
    "# Bar chart for Subscription count\n",
    "plt.figure(figsize=(10, 6))\n",
    "subscription_count = customer_data['Subscription'].value_counts()\n",
    "sns.barplot(x=subscription_count.index.astype(str), y=subscription_count.values, palette='muted')\n",
    "plt.title('Subscription Count')\n",
    "plt.xlabel('Subscription')\n",
    "plt.ylabel('Count')\n",
    "plt.show()"
   ]
  },
  {
   "cell_type": "code",
   "execution_count": 55,
   "id": "6ecbd57f-c015-487a-86c2-af4a1353ca28",
   "metadata": {},
   "outputs": [
    {
     "data": {
      "image/png": "[encoded data removed]",
      "text/plain": [
       "<Figure size 720x432 with 1 Axes>"
      ]
     },
     "metadata": {},
     "output_type": "display_data"
    }
   ],
   "source": [
    "# Bar chart for Favorite Product Category count\n",
    "plt.figure(figsize=(10, 6))\n",
    "product_category_count = customer_data['Favorite_Product_Category'].value_counts()\n",
    "sns.barplot(x=product_category_count.index, y=product_category_count.values, palette='coolwarm')\n",
    "plt.title('Favorite Product Category Count')\n",
    "plt.xlabel('Product Category')\n",
    "plt.ylabel('Count')\n",
    "plt.xticks(rotation=45)\n",
    "plt.show()"
   ]
  },
  {
   "cell_type": "code",
   "execution_count": 56,
   "id": "5c672012-df97-48be-ab00-5eca1d872973",
   "metadata": {},
   "outputs": [
    {
     "data": {
      "image/png": "[encoded data removed]",
      "text/plain": [
       "<Figure size 720x432 with 1 Axes>"
      ]
     },
     "metadata": {},
     "output_type": "display_data"
    }
   ],
   "source": [
    "# Bar chart for Customer Satisfaction Score\n",
    "plt.figure(figsize=(10, 6))\n",
    "sns.histplot(customer_data['Customer_Satisfaction_Score'], bins=10, kde=False, color='salmon')\n",
    "plt.title('Customer Satisfaction Score Distribution')\n",
    "plt.xlabel('Customer Satisfaction Score')\n",
    "plt.ylabel('Count')\n",
    "plt.show()"
   ]
  },
  {
   "cell_type": "code",
   "execution_count": 57,
   "id": "705542d0-cf5f-4959-93f6-24763a3e9618",
   "metadata": {},
   "outputs": [
    {
     "data": {
      "image/png": "[encoded data removed]",
      "text/plain": [
       "<Figure size 720x432 with 1 Axes>"
      ]
     },
     "metadata": {},
     "output_type": "display_data"
    }
   ],
   "source": [
    "# Bar chart for Age and Gender\n",
    "plt.figure(figsize=(10, 6))\n",
    "sns.histplot(data=customer_data, x='Age', hue='Gender', multiple='stack', bins=10, kde=False)\n",
    "plt.title('Age Distribution by Gender')\n",
    "plt.xlabel('Age')\n",
    "plt.ylabel('Count')\n",
    "plt.show()"
   ]
  }
 ],
 "metadata": {
  "kernelspec": {
   "display_name": "Python 3 (Spyder)",
   "language": "python3",
   "name": "python3"
  },
  "language_info": {
   "codemirror_mode": {
    "name": "ipython",
    "version": 3
   },
   "file_extension": ".py",
   "mimetype": "text/x-python",
   "name": "python",
   "nbconvert_exporter": "python",
   "pygments_lexer": "ipython3",
   "version": "3.11.8"
  }
 },
 "nbformat": 4,
 "nbformat_minor": 5
}
